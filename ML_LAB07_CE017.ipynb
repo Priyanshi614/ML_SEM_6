{
  "nbformat": 4,
  "nbformat_minor": 0,
  "metadata": {
    "colab": {
      "provenance": [],
      "include_colab_link": true
    },
    "kernelspec": {
      "name": "python3",
      "display_name": "Python 3"
    },
    "language_info": {
      "name": "python"
    }
  },
  "cells": [
    {
      "cell_type": "markdown",
      "metadata": {
        "id": "view-in-github",
        "colab_type": "text"
      },
      "source": [
        "<a href=\"https://colab.research.google.com/github/Priyanshi614/ML_SEM_6/blob/main/ML_LAB07_CE014.ipynb\" target=\"_parent\"><img src=\"https://colab.research.google.com/assets/colab-badge.svg\" alt=\"Open In Colab\"/></a>"
      ]
    },
    {
      "cell_type": "code",
      "execution_count": null,
      "metadata": {
        "id": "4KpiikBZY-WV"
      },
      "outputs": [],
      "source": [
        "import numpy as np\n",
        "import pandas as pd\n",
        "import io\n",
        "import matplotlib.pyplot as plt\n"
      ]
    },
    {
      "cell_type": "code",
      "source": [
        "from google.colab import files\n",
        "uploaded = files.upload()\n",
        "data = pd.read_csv(io.BytesIO(uploaded['BuyComputer.csv']))\n",
        "data.drop(columns=['User ID',],axis=1,inplace=True)\n",
        "data.head()"
      ],
      "metadata": {
        "colab": {
          "base_uri": "https://localhost:8080/",
          "height": 38
        },
        "id": "PYKYDJGhZH04",
        "outputId": "ec635bf7-e5ed-4005-f3bc-2fd356fdde6f"
      },
      "execution_count": null,
      "outputs": [
        {
          "output_type": "display_data",
          "data": {
            "text/plain": [
              "<IPython.core.display.HTML object>"
            ],
            "text/html": [
              "\n",
              "     <input type=\"file\" id=\"files-20c0f802-03c8-4f6e-8973-5c2a49dd7a73\" name=\"files[]\" multiple disabled\n",
              "        style=\"border:none\" />\n",
              "     <output id=\"result-20c0f802-03c8-4f6e-8973-5c2a49dd7a73\">\n",
              "      Upload widget is only available when the cell has been executed in the\n",
              "      current browser session. Please rerun this cell to enable.\n",
              "      </output>\n",
              "      <script>// Copyright 2017 Google LLC\n",
              "//\n",
              "// Licensed under the Apache License, Version 2.0 (the \"License\");\n",
              "// you may not use this file except in compliance with the License.\n",
              "// You may obtain a copy of the License at\n",
              "//\n",
              "//      http://www.apache.org/licenses/LICENSE-2.0\n",
              "//\n",
              "// Unless required by applicable law or agreed to in writing, software\n",
              "// distributed under the License is distributed on an \"AS IS\" BASIS,\n",
              "// WITHOUT WARRANTIES OR CONDITIONS OF ANY KIND, either express or implied.\n",
              "// See the License for the specific language governing permissions and\n",
              "// limitations under the License.\n",
              "\n",
              "/**\n",
              " * @fileoverview Helpers for google.colab Python module.\n",
              " */\n",
              "(function(scope) {\n",
              "function span(text, styleAttributes = {}) {\n",
              "  const element = document.createElement('span');\n",
              "  element.textContent = text;\n",
              "  for (const key of Object.keys(styleAttributes)) {\n",
              "    element.style[key] = styleAttributes[key];\n",
              "  }\n",
              "  return element;\n",
              "}\n",
              "\n",
              "// Max number of bytes which will be uploaded at a time.\n",
              "const MAX_PAYLOAD_SIZE = 100 * 1024;\n",
              "\n",
              "function _uploadFiles(inputId, outputId) {\n",
              "  const steps = uploadFilesStep(inputId, outputId);\n",
              "  const outputElement = document.getElementById(outputId);\n",
              "  // Cache steps on the outputElement to make it available for the next call\n",
              "  // to uploadFilesContinue from Python.\n",
              "  outputElement.steps = steps;\n",
              "\n",
              "  return _uploadFilesContinue(outputId);\n",
              "}\n",
              "\n",
              "// This is roughly an async generator (not supported in the browser yet),\n",
              "// where there are multiple asynchronous steps and the Python side is going\n",
              "// to poll for completion of each step.\n",
              "// This uses a Promise to block the python side on completion of each step,\n",
              "// then passes the result of the previous step as the input to the next step.\n",
              "function _uploadFilesContinue(outputId) {\n",
              "  const outputElement = document.getElementById(outputId);\n",
              "  const steps = outputElement.steps;\n",
              "\n",
              "  const next = steps.next(outputElement.lastPromiseValue);\n",
              "  return Promise.resolve(next.value.promise).then((value) => {\n",
              "    // Cache the last promise value to make it available to the next\n",
              "    // step of the generator.\n",
              "    outputElement.lastPromiseValue = value;\n",
              "    return next.value.response;\n",
              "  });\n",
              "}\n",
              "\n",
              "/**\n",
              " * Generator function which is called between each async step of the upload\n",
              " * process.\n",
              " * @param {string} inputId Element ID of the input file picker element.\n",
              " * @param {string} outputId Element ID of the output display.\n",
              " * @return {!Iterable<!Object>} Iterable of next steps.\n",
              " */\n",
              "function* uploadFilesStep(inputId, outputId) {\n",
              "  const inputElement = document.getElementById(inputId);\n",
              "  inputElement.disabled = false;\n",
              "\n",
              "  const outputElement = document.getElementById(outputId);\n",
              "  outputElement.innerHTML = '';\n",
              "\n",
              "  const pickedPromise = new Promise((resolve) => {\n",
              "    inputElement.addEventListener('change', (e) => {\n",
              "      resolve(e.target.files);\n",
              "    });\n",
              "  });\n",
              "\n",
              "  const cancel = document.createElement('button');\n",
              "  inputElement.parentElement.appendChild(cancel);\n",
              "  cancel.textContent = 'Cancel upload';\n",
              "  const cancelPromise = new Promise((resolve) => {\n",
              "    cancel.onclick = () => {\n",
              "      resolve(null);\n",
              "    };\n",
              "  });\n",
              "\n",
              "  // Wait for the user to pick the files.\n",
              "  const files = yield {\n",
              "    promise: Promise.race([pickedPromise, cancelPromise]),\n",
              "    response: {\n",
              "      action: 'starting',\n",
              "    }\n",
              "  };\n",
              "\n",
              "  cancel.remove();\n",
              "\n",
              "  // Disable the input element since further picks are not allowed.\n",
              "  inputElement.disabled = true;\n",
              "\n",
              "  if (!files) {\n",
              "    return {\n",
              "      response: {\n",
              "        action: 'complete',\n",
              "      }\n",
              "    };\n",
              "  }\n",
              "\n",
              "  for (const file of files) {\n",
              "    const li = document.createElement('li');\n",
              "    li.append(span(file.name, {fontWeight: 'bold'}));\n",
              "    li.append(span(\n",
              "        `(${file.type || 'n/a'}) - ${file.size} bytes, ` +\n",
              "        `last modified: ${\n",
              "            file.lastModifiedDate ? file.lastModifiedDate.toLocaleDateString() :\n",
              "                                    'n/a'} - `));\n",
              "    const percent = span('0% done');\n",
              "    li.appendChild(percent);\n",
              "\n",
              "    outputElement.appendChild(li);\n",
              "\n",
              "    const fileDataPromise = new Promise((resolve) => {\n",
              "      const reader = new FileReader();\n",
              "      reader.onload = (e) => {\n",
              "        resolve(e.target.result);\n",
              "      };\n",
              "      reader.readAsArrayBuffer(file);\n",
              "    });\n",
              "    // Wait for the data to be ready.\n",
              "    let fileData = yield {\n",
              "      promise: fileDataPromise,\n",
              "      response: {\n",
              "        action: 'continue',\n",
              "      }\n",
              "    };\n",
              "\n",
              "    // Use a chunked sending to avoid message size limits. See b/62115660.\n",
              "    let position = 0;\n",
              "    do {\n",
              "      const length = Math.min(fileData.byteLength - position, MAX_PAYLOAD_SIZE);\n",
              "      const chunk = new Uint8Array(fileData, position, length);\n",
              "      position += length;\n",
              "\n",
              "      const base64 = btoa(String.fromCharCode.apply(null, chunk));\n",
              "      yield {\n",
              "        response: {\n",
              "          action: 'append',\n",
              "          file: file.name,\n",
              "          data: base64,\n",
              "        },\n",
              "      };\n",
              "\n",
              "      let percentDone = fileData.byteLength === 0 ?\n",
              "          100 :\n",
              "          Math.round((position / fileData.byteLength) * 100);\n",
              "      percent.textContent = `${percentDone}% done`;\n",
              "\n",
              "    } while (position < fileData.byteLength);\n",
              "  }\n",
              "\n",
              "  // All done.\n",
              "  yield {\n",
              "    response: {\n",
              "      action: 'complete',\n",
              "    }\n",
              "  };\n",
              "}\n",
              "\n",
              "scope.google = scope.google || {};\n",
              "scope.google.colab = scope.google.colab || {};\n",
              "scope.google.colab._files = {\n",
              "  _uploadFiles,\n",
              "  _uploadFilesContinue,\n",
              "};\n",
              "})(self);\n",
              "</script> "
            ]
          },
          "metadata": {}
        }
      ]
    },
    {
      "cell_type": "code",
      "source": [
        "data.shape\n"
      ],
      "metadata": {
        "id": "9VhPo4RXZLHH"
      },
      "execution_count": null,
      "outputs": []
    },
    {
      "cell_type": "code",
      "source": [
        "X = data[[\"Age\", \"EstimatedSalary\"]]\n",
        "y = data[\"Purchased\"]\n",
        "X, y\n",
        "     "
      ],
      "metadata": {
        "id": "Lovku0Mqa4tH"
      },
      "execution_count": null,
      "outputs": []
    },
    {
      "cell_type": "code",
      "source": [
        "from sklearn.model_selection import train_test_split\n",
        "\n",
        "X_train, X_test, y_train, y_test = train_test_split(X,y, train_size=0.75, random_state=13)\n",
        "X_train.shape, X_test.shape, y_train.shape, y_test.shape, X_train.head()\n",
        "     "
      ],
      "metadata": {
        "id": "pgLDoRBha8Dm"
      },
      "execution_count": null,
      "outputs": []
    },
    {
      "cell_type": "code",
      "source": [
        "\n",
        "from sklearn.preprocessing import StandardScaler\n",
        "sc = StandardScaler()\n",
        "X_train = sc.fit_transform(X_train)\n",
        "y_train, y_test = y_train.tolist(), y_test.tolist()\n",
        "X_test = sc.transform(X_test)\n",
        "X_train[:5]"
      ],
      "metadata": {
        "id": "4PUlkr6IbM8B"
      },
      "execution_count": null,
      "outputs": []
    },
    {
      "cell_type": "code",
      "source": [
        "import math\n",
        "\n",
        "def model(x_age, x_salary, theta_0, theta_age, theta_salary):\n",
        "  return 1 / (1 + math.exp(-1 * (theta_0 + theta_age*x_age + theta_salary*x_salary)))\n",
        "     \n",
        "\n",
        "math.exp(2), math.exp(1)**2, np.exp(1)"
      ],
      "metadata": {
        "id": "ySEhKK-3bXxn"
      },
      "execution_count": null,
      "outputs": []
    },
    {
      "cell_type": "code",
      "source": [
        "import math\n",
        "\n",
        "def loss(y_pred, y_actual):\n",
        "  return (y_actual) and (-1 * math.log10(y_pred)) or (-1 * math.log10(1 - y_pred))"
      ],
      "metadata": {
        "id": "ohzX01rvbl_n"
      },
      "execution_count": null,
      "outputs": []
    },
    {
      "cell_type": "code",
      "source": [
        "loss(model(X_train[0][0], X_train[0][1],1,1,1), y_train[0]), y_train[0], model(X_train[0][0], X_train[0][1],1,1,1)\n"
      ],
      "metadata": {
        "id": "FKyhbr-wbnDH"
      },
      "execution_count": null,
      "outputs": []
    },
    {
      "cell_type": "code",
      "source": [
        "# Update rule\n",
        "def update(theta, lr, m, y_pred, y_actual, feature_i=0):\n",
        "  summation = 0\n",
        "  for i in range(len(y_pred)):\n",
        "    summation = summation + (y_pred[i] - y_actual[i])*(feature_i and feature_i[i] or 1)\n",
        "  return theta - (lr/m)*summation\n",
        "     \n",
        "     "
      ],
      "metadata": {
        "id": "HWxh9HsKbru3"
      },
      "execution_count": null,
      "outputs": []
    },
    {
      "cell_type": "code",
      "source": [
        "# For 1 epoch\n",
        "# We have model, loss fn, and update rule\n",
        "theta_0, theta_age, theta_salary = 1,1,1\n",
        "epochs = 100\n",
        "learning_rate = 10\n",
        "\n",
        "X_train_df = pd.DataFrame(X_train, columns=[\"Age\", \"EstimatedSalary\"])\n",
        "age = X_train_df[\"Age\"].tolist()\n",
        "estimated_salary = X_train_df[\"EstimatedSalary\"].tolist()\n",
        "\n",
        "for j in range(epochs):\n",
        "  y_train_pred = []\n",
        "  m = len(X_train)\n",
        "  for i in range(m):\n",
        "    # print(\"training: \",X_train[i][0], X_train[i][1])\n",
        "    y_train_pred.append(model(X_train[i][0], X_train[i][1], theta_0, theta_age, theta_salary))\n",
        "    # print(\"---\",y_train_pred[i], y_train[i])\n",
        "    loss_value = loss(y_train_pred[i], y_train[i])\n",
        "    print(f\"Epochs {j} Iteration {i+1}: Loss: \",loss_value)\n",
        "  theta_0 = update(theta_0, learning_rate, m, y_train_pred, y_train)\n",
        "  theta_age = update(theta_age, learning_rate, m, y_train_pred, y_train, age)\n",
        "  theta_salary = update(theta_salary, learning_rate, m, y_train_pred, y_train, estimated_salary)"
      ],
      "metadata": {
        "id": "F0Zs5mqhbvs3"
      },
      "execution_count": null,
      "outputs": []
    },
    {
      "cell_type": "code",
      "source": [
        "y_test_pred = []\n",
        "for i in range(len(X_test)):\n",
        "  if model(X_test[i][0], X_test[i][1], theta_0, theta_age, theta_salary) < 0.5:\n",
        "    y_test_pred.append(0)\n",
        "  else:\n",
        "    y_test_pred.append(1)\n",
        "    \n",
        "accuracy = 0 # (TP + TN)/Total\n",
        "precision = 0 # (TP/TP+FP)\n",
        "recall = 0 # (TP/TP+FN)\n",
        "# F_Score = 2PR/(P+R)\n",
        "TP, FP, TN, FN = 0,0,0,0\n",
        "\n",
        "for i in range(len(X_test)):\n",
        "  if y_test_pred[i]==1 and y_test[i]==1:\n",
        "    TP = TP+1\n",
        "  if y_test[i]==0 and y_test_pred[i]==1:\n",
        "    FP = FP+1\n",
        "  if y_test_pred[i]==0 and y_test[i]==0:\n",
        "    TN = TN+1\n",
        "  if y_test_pred[i]==0 and y_test[i]==1:\n",
        "    FN = FN+1\n",
        "    \n",
        "accuracy = (TP+TN)/len(X_test)\n",
        "precision = TP/(TP+FP)\n",
        "recall = TP/(TP+FN)\n",
        "F_Score = (2*precision*recall)/(precision+recall)\n",
        "print(f\"Accuracy: {accuracy}\\nPrecision: {precision}\\nRecall: {recall}\\nF Score: {F_Score}\")"
      ],
      "metadata": {
        "id": "3dFVCSmonqIJ"
      },
      "execution_count": null,
      "outputs": []
    },
    {
      "cell_type": "markdown",
      "source": [
        "Through sklearns logistic regressor"
      ],
      "metadata": {
        "id": "U_w0m8kU2-dT"
      }
    },
    {
      "cell_type": "code",
      "source": [
        "from sklearn.linear_model import LogisticRegression\n",
        "LR = LogisticRegression(random_state = 88)\n",
        "\n",
        "LR.fit(X_train, y_train)\n",
        "print(X_test.shape)\n",
        "y_pred = LR.predict(X_test)\n",
        "\n",
        "from sklearn import metrics\n",
        "\n",
        "print(\"Accuracy:\",metrics.accuracy_score(y_test, y_pred))\n",
        "print(\"Precision:\",metrics.precision_score(y_test,y_pred))\n",
        "print(\"Recall:\",metrics.recall_score(y_test,y_pred))\n",
        "print(\"F1 score:\",metrics.f1_score(y_test,y_pred))"
      ],
      "metadata": {
        "id": "cDXE21-_2xUg"
      },
      "execution_count": null,
      "outputs": []
    }
  ]
}
