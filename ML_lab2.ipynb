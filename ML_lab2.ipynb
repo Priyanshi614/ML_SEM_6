{
  "nbformat": 4,
  "nbformat_minor": 0,
  "metadata": {
    "colab": {
      "provenance": [],
      "include_colab_link": true
    },
    "kernelspec": {
      "name": "python3",
      "display_name": "Python 3"
    },
    "language_info": {
      "name": "python"
    }
  },
  "cells": [
    {
      "cell_type": "markdown",
      "metadata": {
        "id": "view-in-github",
        "colab_type": "text"
      },
      "source": [
        "<a href=\"https://colab.research.google.com/github/Priyanshi614/ML_SEM_6/blob/main/ML_lab2.ipynb\" target=\"_parent\"><img src=\"https://colab.research.google.com/assets/colab-badge.svg\" alt=\"Open In Colab\"/></a>"
      ]
    },
    {
      "cell_type": "markdown",
      "source": [
        "**Steps for Data Transformation**\n"
      ],
      "metadata": {
        "id": "MCwA2adwS4mZ"
      }
    },
    {
      "cell_type": "code",
      "source": [
        "from google.colab import drive\n",
        "drive.mount('/content/drive')"
      ],
      "metadata": {
        "colab": {
          "base_uri": "https://localhost:8080/"
        },
        "id": "haJgbz2ZQGuS",
        "outputId": "7d3f48c6-a470-4d8c-df73-2b5ba0722a67"
      },
      "execution_count": null,
      "outputs": [
        {
          "output_type": "stream",
          "name": "stdout",
          "text": [
            "Drive already mounted at /content/drive; to attempt to forcibly remount, call drive.mount(\"/content/drive\", force_remount=True).\n"
          ]
        }
      ]
    },
    {
      "cell_type": "code",
      "source": [
        "import numpy as np\n",
        "import pandas as pd\n",
        "from sklearn.preprocessing import MinMaxScaler, StandardScaler\n",
        "from sklearn.preprocessing import LabelEncoder,OneHotEncoder\n"
      ],
      "metadata": {
        "id": "6pKfx3BQQiLN"
      },
      "execution_count": null,
      "outputs": []
    },
    {
      "cell_type": "code",
      "source": [
        "datasets = pd.read_csv('Data_for_Transformation.csv')\n",
        "print(\"\\nData :\\n\",datasets)"
      ],
      "metadata": {
        "colab": {
          "base_uri": "https://localhost:8080/"
        },
        "id": "TLqayGJrQ-io",
        "outputId": "c6b6663e-4350-4207-f624-7873806c988c"
      },
      "execution_count": null,
      "outputs": [
        {
          "output_type": "stream",
          "name": "stdout",
          "text": [
            "\n",
            "Data :\n",
            "     Country  Age  Salary Purchased\n",
            "0    France   44   72000        No\n",
            "1     Spain   27   48000       Yes\n",
            "2   Germany   30   54000        No\n",
            "3     Spain   38   61000        No\n",
            "4   Germany   40   68000       Yes\n",
            "5    France   35   58000       Yes\n",
            "6     Spain   39   52000        No\n",
            "7    France   48   79000       Yes\n",
            "8   Germany   50   83000        No\n",
            "9    France   37   67000       Yes\n",
            "10    Spain   45   55000        No\n"
          ]
        }
      ]
    },
    {
      "cell_type": "code",
      "source": [
        "\n",
        "X = datasets.iloc[:, :-1].values\n",
        "Y = datasets.iloc[:, -1].values\n",
        "print(\"\\n\\nInput : \\n\", X)\n",
        "print(\"\\n\\nOutput: \\n\", Y)"
      ],
      "metadata": {
        "colab": {
          "base_uri": "https://localhost:8080/"
        },
        "id": "3COqyNbaRIbP",
        "outputId": "633671b6-3c40-425d-888d-ab285a9541e1"
      },
      "execution_count": null,
      "outputs": [
        {
          "output_type": "stream",
          "name": "stdout",
          "text": [
            "\n",
            "\n",
            "Input : \n",
            " [['France' 44 72000]\n",
            " ['Spain' 27 48000]\n",
            " ['Germany' 30 54000]\n",
            " ['Spain' 38 61000]\n",
            " ['Germany' 40 68000]\n",
            " ['France' 35 58000]\n",
            " ['Spain' 39 52000]\n",
            " ['France' 48 79000]\n",
            " ['Germany' 50 83000]\n",
            " ['France' 37 67000]\n",
            " ['Spain' 45 55000]]\n",
            "\n",
            "\n",
            "Output: \n",
            " ['No' 'Yes' 'No' 'No' 'Yes' 'Yes' 'No' 'Yes' 'No' 'Yes' 'No']\n"
          ]
        }
      ]
    },
    {
      "cell_type": "code",
      "source": [
        "X_new = datasets.iloc[:,1:3].values\n",
        "print(\"\\n\\nX for transformation : \\n\", X_new)"
      ],
      "metadata": {
        "colab": {
          "base_uri": "https://localhost:8080/"
        },
        "id": "xuYJhmQCRtqW",
        "outputId": "c8ef15aa-7300-4f73-b72e-268bcc68e098"
      },
      "execution_count": null,
      "outputs": [
        {
          "output_type": "stream",
          "name": "stdout",
          "text": [
            "\n",
            "\n",
            "X for transformation : \n",
            " [[   44 72000]\n",
            " [   27 48000]\n",
            " [   30 54000]\n",
            " [   38 61000]\n",
            " [   40 68000]\n",
            " [   35 58000]\n",
            " [   39 52000]\n",
            " [   48 79000]\n",
            " [   50 83000]\n",
            " [   37 67000]\n",
            " [   45 55000]]\n"
          ]
        }
      ]
    },
    {
      "cell_type": "code",
      "source": [
        "scaler = MinMaxScaler()\n",
        "X_scaled = scaler.fit_transform(X_new)\n",
        "print(\"\\n\\nScaled X : \\n\", X_scaled)"
      ],
      "metadata": {
        "colab": {
          "base_uri": "https://localhost:8080/"
        },
        "id": "mIDznapER1XO",
        "outputId": "b70ec2b6-d328-45e0-92ac-6617b6f7e646"
      },
      "execution_count": null,
      "outputs": [
        {
          "output_type": "stream",
          "name": "stdout",
          "text": [
            "\n",
            "\n",
            "Scaled X : \n",
            " [[0.73913043 0.68571429]\n",
            " [0.         0.        ]\n",
            " [0.13043478 0.17142857]\n",
            " [0.47826087 0.37142857]\n",
            " [0.56521739 0.57142857]\n",
            " [0.34782609 0.28571429]\n",
            " [0.52173913 0.11428571]\n",
            " [0.91304348 0.88571429]\n",
            " [1.         1.        ]\n",
            " [0.43478261 0.54285714]\n",
            " [0.7826087  0.2       ]]\n"
          ]
        }
      ]
    },
    {
      "cell_type": "code",
      "source": [
        "std = StandardScaler()\n",
        "X_std = std.fit_transform(X_new)\n",
        "print(\"\\n\\nStandardized X : \\n\", X_std)"
      ],
      "metadata": {
        "colab": {
          "base_uri": "https://localhost:8080/"
        },
        "id": "LV56quSWSdUW",
        "outputId": "0de21b4d-7256-4778-8488-f34be81699b1"
      },
      "execution_count": null,
      "outputs": [
        {
          "output_type": "stream",
          "name": "stdout",
          "text": [
            "\n",
            "\n",
            "Standardized X : \n",
            " [[ 0.68188156  0.79548755]\n",
            " [-1.81835082 -1.41513049]\n",
            " [-1.37713334 -0.86247598]\n",
            " [-0.2005534  -0.21771238]\n",
            " [ 0.09359159  0.42705121]\n",
            " [-0.64177088 -0.49403964]\n",
            " [-0.05348091 -1.04669415]\n",
            " [ 1.27017153  1.44025115]\n",
            " [ 1.56431652  1.80868749]\n",
            " [-0.34762589  0.33494213]\n",
            " [ 0.82895405 -0.77036689]]\n"
          ]
        }
      ]
    },
    {
      "cell_type": "code",
      "source": [
        "datasets = pd.read_csv('Data_for_Categorical_Values.csv')\n",
        "print(\"\\nData :\\n\",datasets)\n",
        "print(\"\\nData statistics\\n\",datasets.describe())"
      ],
      "metadata": {
        "colab": {
          "base_uri": "https://localhost:8080/"
        },
        "id": "nKIK5gIDVusZ",
        "outputId": "2c1afe59-3eb1-460c-8922-bf9c708594e2"
      },
      "execution_count": null,
      "outputs": [
        {
          "output_type": "stream",
          "name": "stdout",
          "text": [
            "\n",
            "Data :\n",
            "     Country  Age  Salary Purchased\n",
            "0    France   44   72000        No\n",
            "1     Spain   27   48000       Yes\n",
            "2   Germany   30   54000        No\n",
            "3     Spain   38   61000        No\n",
            "4   Germany   40   68000       Yes\n",
            "5    France   35   58000       Yes\n",
            "6     Spain   39   52000        No\n",
            "7    France   48   79000       Yes\n",
            "8   Germany   50   83000        No\n",
            "9    France   37   67000       Yes\n",
            "10    Spain   45   55000        No\n",
            "\n",
            "Data statistics\n",
            "              Age        Salary\n",
            "count  11.000000     11.000000\n",
            "mean   39.363636  63363.636364\n",
            "std     7.131237  11386.594989\n",
            "min    27.000000  48000.000000\n",
            "25%    36.000000  54500.000000\n",
            "50%    39.000000  61000.000000\n",
            "75%    44.500000  70000.000000\n",
            "max    50.000000  83000.000000\n"
          ]
        }
      ]
    },
    {
      "cell_type": "code",
      "source": [
        "# All rows, all columns except last\n",
        "X = datasets.iloc[:, :-1].values\n",
        "# Only last column\n",
        "Y = datasets.iloc[:, -1].values\n",
        "print(\"\\n\\nInput : \\n\", X)\n",
        "print(\"\\n\\nOutput: \\n\", Y)"
      ],
      "metadata": {
        "colab": {
          "base_uri": "https://localhost:8080/"
        },
        "id": "SR26VokCV94Z",
        "outputId": "9f525e78-9ab1-4c1f-a2f0-9e60b1469820"
      },
      "execution_count": null,
      "outputs": [
        {
          "output_type": "stream",
          "name": "stdout",
          "text": [
            "\n",
            "\n",
            "Input : \n",
            " [['France' 44 72000]\n",
            " ['Spain' 27 48000]\n",
            " ['Germany' 30 54000]\n",
            " ['Spain' 38 61000]\n",
            " ['Germany' 40 68000]\n",
            " ['France' 35 58000]\n",
            " ['Spain' 39 52000]\n",
            " ['France' 48 79000]\n",
            " ['Germany' 50 83000]\n",
            " ['France' 37 67000]\n",
            " ['Spain' 45 55000]]\n",
            "\n",
            "\n",
            "Output: \n",
            " ['No' 'Yes' 'No' 'No' 'Yes' 'Yes' 'No' 'Yes' 'No' 'Yes' 'No']\n"
          ]
        }
      ]
    },
    {
      "cell_type": "code",
      "source": [
        "#convert string values to numercal values\n",
        "le = LabelEncoder()\n",
        "X[ : ,0] = le.fit_transform(X[ : ,0])\n",
        "print(X)"
      ],
      "metadata": {
        "colab": {
          "base_uri": "https://localhost:8080/"
        },
        "id": "4vnVOI3QWIO5",
        "outputId": "c742da05-cf48-4ec7-888c-34589086731f"
      },
      "execution_count": null,
      "outputs": [
        {
          "output_type": "stream",
          "name": "stdout",
          "text": [
            "[[0 44 72000]\n",
            " [2 27 48000]\n",
            " [1 30 54000]\n",
            " [2 38 61000]\n",
            " [1 40 68000]\n",
            " [0 35 58000]\n",
            " [2 39 52000]\n",
            " [0 48 79000]\n",
            " [1 50 83000]\n",
            " [0 37 67000]\n",
            " [2 45 55000]]\n"
          ]
        }
      ]
    },
    {
      "cell_type": "code",
      "source": [
        "dummy = pd.get_dummies(datasets['Country'])\n",
        "print(dummy)\n",
        "datasets = datasets.drop(['Country', 'Purchased'],axis=1)\n",
        "datasets = pd.concat([dummy,datasets],axis=1)\n",
        "print(datasets)"
      ],
      "metadata": {
        "colab": {
          "base_uri": "https://localhost:8080/"
        },
        "id": "apXK9RpJW9s7",
        "outputId": "1a811f99-7ae9-4668-e928-37e91301606e"
      },
      "execution_count": null,
      "outputs": [
        {
          "output_type": "stream",
          "name": "stdout",
          "text": [
            "    France  Germany  Spain\n",
            "0        1        0      0\n",
            "1        0        0      1\n",
            "2        0        1      0\n",
            "3        0        0      1\n",
            "4        0        0      0\n",
            "5        0        1      0\n",
            "6        1        0      0\n",
            "7        0        0      1\n",
            "8        1        0      0\n",
            "9        0        1      0\n",
            "10       1        0      0\n",
            "11       0        0      1\n",
            "    France  Germany  Spain   Age   Salary\n",
            "0        1        0      0  44.0  72000.0\n",
            "1        0        0      1  27.0  48000.0\n",
            "2        0        1      0  30.0  54000.0\n",
            "3        0        0      1  38.0  61000.0\n",
            "4        0        0      0   NaN      NaN\n",
            "5        0        1      0  40.0      NaN\n",
            "6        1        0      0  35.0  58000.0\n",
            "7        0        0      1   NaN  52000.0\n",
            "8        1        0      0  48.0  79000.0\n",
            "9        0        1      0  50.0  83000.0\n",
            "10       1        0      0  37.0  67000.0\n",
            "11       0        0      1  45.0  55000.0\n"
          ]
        }
      ]
    },
    {
      "cell_type": "code",
      "source": [
        "onehotencoder = OneHotEncoder()\n",
        "\n",
        "x = onehotencoder.fit_transform(datasets.Country.values.reshape(-1,1)).toarray()\n",
        "print(x)\n",
        "\n",
        "dfOneHot = pd.DataFrame(x,columns=[\"Country_\"+str(int(i)) for i in range(datasets.shape[1]-1)]\n",
        ")\n",
        "df = pd.concat([datasets,dfOneHot],axis=1)\n",
        "df = df.drop(['Country'],axis=1)\n",
        "print(df.head())"
      ],
      "metadata": {
        "colab": {
          "base_uri": "https://localhost:8080/"
        },
        "id": "Hwo5GmX3YgGD",
        "outputId": "3950c4e7-98a7-4797-9b96-0ff3398bc0a0"
      },
      "execution_count": null,
      "outputs": [
        {
          "output_type": "stream",
          "name": "stdout",
          "text": [
            "[[1. 0. 0.]\n",
            " [0. 0. 1.]\n",
            " [0. 1. 0.]\n",
            " [0. 0. 1.]\n",
            " [0. 1. 0.]\n",
            " [1. 0. 0.]\n",
            " [0. 0. 1.]\n",
            " [1. 0. 0.]\n",
            " [0. 1. 0.]\n",
            " [1. 0. 0.]\n",
            " [0. 0. 1.]]\n",
            "   Age  Salary Purchased  Country_0  Country_1  Country_2\n",
            "0   44   72000        No        1.0        0.0        0.0\n",
            "1   27   48000       Yes        0.0        0.0        1.0\n",
            "2   30   54000        No        0.0        1.0        0.0\n",
            "3   38   61000        No        0.0        0.0        1.0\n",
            "4   40   68000       Yes        0.0        1.0        0.0\n"
          ]
        }
      ]
    },
    {
      "cell_type": "code",
      "source": [
        "import numpy as np\n",
        "import pandas as pd\n",
        "from sklearn.impute import SimpleImputer\n",
        "\n",
        "datasets = pd.read_csv('Data_for_Missing_Values.csv')\n",
        "print(datasets)"
      ],
      "metadata": {
        "colab": {
          "base_uri": "https://localhost:8080/"
        },
        "id": "6w_bk8Bi7F_q",
        "outputId": "828f153d-7d7b-4d60-96ab-d23cd7531a14"
      },
      "execution_count": null,
      "outputs": [
        {
          "output_type": "stream",
          "name": "stdout",
          "text": [
            "    Country   Age   Salary Purchased\n",
            "0    France  44.0  72000.0        No\n",
            "1     Spain  27.0  48000.0       Yes\n",
            "2   Germany  30.0  54000.0        No\n",
            "3     Spain  38.0  61000.0        No\n",
            "4       NaN   NaN      NaN       NaN\n",
            "5   Germany  40.0      NaN       Yes\n",
            "6    France  35.0  58000.0       Yes\n",
            "7     Spain   NaN  52000.0        No\n",
            "8    France  48.0  79000.0       Yes\n",
            "9   Germany  50.0  83000.0        No\n",
            "10   France  37.0  67000.0       Yes\n",
            "11    Spain  45.0  55000.0        No\n"
          ]
        }
      ]
    },
    {
      "cell_type": "code",
      "source": [
        "x = datasets.iloc[:,:-1].values\n",
        "y = datasets.iloc[:,-1].values\n",
        "print(x)\n",
        "print(y)"
      ],
      "metadata": {
        "colab": {
          "base_uri": "https://localhost:8080/"
        },
        "id": "HGjgYk2Y7qJj",
        "outputId": "64c49c05-b7c0-453e-8d12-72cb26388a5a"
      },
      "execution_count": null,
      "outputs": [
        {
          "output_type": "stream",
          "name": "stdout",
          "text": [
            "[['France' 44 72000]\n",
            " ['Spain' 27 48000]\n",
            " ['Germany' 30 54000]\n",
            " ['Spain' 38 61000]\n",
            " ['Germany' 40 68000]\n",
            " ['France' 35 58000]\n",
            " ['Spain' 39 52000]\n",
            " ['France' 48 79000]\n",
            " ['Germany' 50 83000]\n",
            " ['France' 37 67000]\n",
            " ['Spain' 45 55000]]\n",
            "['No' 'Yes' 'No' 'No' 'Yes' 'Yes' 'No' 'Yes' 'No' 'Yes' 'No']\n"
          ]
        }
      ]
    },
    {
      "cell_type": "code",
      "source": [
        "datasets.dropna(axis=0,how='all',inplace=True)\n",
        "print(datasets)"
      ],
      "metadata": {
        "colab": {
          "base_uri": "https://localhost:8080/"
        },
        "id": "FwZVufLb8HPG",
        "outputId": "0ef72794-893e-4825-c07a-92de99050daa"
      },
      "execution_count": null,
      "outputs": [
        {
          "output_type": "stream",
          "name": "stdout",
          "text": [
            "    Country  Age  Salary Purchased\n",
            "0    France   44   72000        No\n",
            "1     Spain   27   48000       Yes\n",
            "2   Germany   30   54000        No\n",
            "3     Spain   38   61000        No\n",
            "4   Germany   40   68000       Yes\n",
            "5    France   35   58000       Yes\n",
            "6     Spain   39   52000        No\n",
            "7    France   48   79000       Yes\n",
            "8   Germany   50   83000        No\n",
            "9    France   37   67000       Yes\n",
            "10    Spain   45   55000        No\n"
          ]
        }
      ]
    },
    {
      "cell_type": "code",
      "source": [
        "updated_df = datasets\n",
        "updated_df['Age']=updated_df['Age'].fillna(updated_df['Age'].mean())\n",
        "updated_df['Salary']=updated_df['Salary'].fillna(updated_df['Salary'].mean())\n",
        "updated_df\n",
        "\n"
      ],
      "metadata": {
        "colab": {
          "base_uri": "https://localhost:8080/",
          "height": 394
        },
        "id": "2Ksdjxen8KTo",
        "outputId": "6981c2d8-ddeb-4f24-c3dd-5270ae5c1a73"
      },
      "execution_count": null,
      "outputs": [
        {
          "output_type": "execute_result",
          "data": {
            "text/plain": [
              "    Country  Age  Salary Purchased\n",
              "0    France   44   72000        No\n",
              "1     Spain   27   48000       Yes\n",
              "2   Germany   30   54000        No\n",
              "3     Spain   38   61000        No\n",
              "4   Germany   40   68000       Yes\n",
              "5    France   35   58000       Yes\n",
              "6     Spain   39   52000        No\n",
              "7    France   48   79000       Yes\n",
              "8   Germany   50   83000        No\n",
              "9    France   37   67000       Yes\n",
              "10    Spain   45   55000        No"
            ],
            "text/html": [
              "\n",
              "  <div id=\"df-682f49a1-0de2-4d1d-ad49-f52b61633f18\">\n",
              "    <div class=\"colab-df-container\">\n",
              "      <div>\n",
              "<style scoped>\n",
              "    .dataframe tbody tr th:only-of-type {\n",
              "        vertical-align: middle;\n",
              "    }\n",
              "\n",
              "    .dataframe tbody tr th {\n",
              "        vertical-align: top;\n",
              "    }\n",
              "\n",
              "    .dataframe thead th {\n",
              "        text-align: right;\n",
              "    }\n",
              "</style>\n",
              "<table border=\"1\" class=\"dataframe\">\n",
              "  <thead>\n",
              "    <tr style=\"text-align: right;\">\n",
              "      <th></th>\n",
              "      <th>Country</th>\n",
              "      <th>Age</th>\n",
              "      <th>Salary</th>\n",
              "      <th>Purchased</th>\n",
              "    </tr>\n",
              "  </thead>\n",
              "  <tbody>\n",
              "    <tr>\n",
              "      <th>0</th>\n",
              "      <td>France</td>\n",
              "      <td>44</td>\n",
              "      <td>72000</td>\n",
              "      <td>No</td>\n",
              "    </tr>\n",
              "    <tr>\n",
              "      <th>1</th>\n",
              "      <td>Spain</td>\n",
              "      <td>27</td>\n",
              "      <td>48000</td>\n",
              "      <td>Yes</td>\n",
              "    </tr>\n",
              "    <tr>\n",
              "      <th>2</th>\n",
              "      <td>Germany</td>\n",
              "      <td>30</td>\n",
              "      <td>54000</td>\n",
              "      <td>No</td>\n",
              "    </tr>\n",
              "    <tr>\n",
              "      <th>3</th>\n",
              "      <td>Spain</td>\n",
              "      <td>38</td>\n",
              "      <td>61000</td>\n",
              "      <td>No</td>\n",
              "    </tr>\n",
              "    <tr>\n",
              "      <th>4</th>\n",
              "      <td>Germany</td>\n",
              "      <td>40</td>\n",
              "      <td>68000</td>\n",
              "      <td>Yes</td>\n",
              "    </tr>\n",
              "    <tr>\n",
              "      <th>5</th>\n",
              "      <td>France</td>\n",
              "      <td>35</td>\n",
              "      <td>58000</td>\n",
              "      <td>Yes</td>\n",
              "    </tr>\n",
              "    <tr>\n",
              "      <th>6</th>\n",
              "      <td>Spain</td>\n",
              "      <td>39</td>\n",
              "      <td>52000</td>\n",
              "      <td>No</td>\n",
              "    </tr>\n",
              "    <tr>\n",
              "      <th>7</th>\n",
              "      <td>France</td>\n",
              "      <td>48</td>\n",
              "      <td>79000</td>\n",
              "      <td>Yes</td>\n",
              "    </tr>\n",
              "    <tr>\n",
              "      <th>8</th>\n",
              "      <td>Germany</td>\n",
              "      <td>50</td>\n",
              "      <td>83000</td>\n",
              "      <td>No</td>\n",
              "    </tr>\n",
              "    <tr>\n",
              "      <th>9</th>\n",
              "      <td>France</td>\n",
              "      <td>37</td>\n",
              "      <td>67000</td>\n",
              "      <td>Yes</td>\n",
              "    </tr>\n",
              "    <tr>\n",
              "      <th>10</th>\n",
              "      <td>Spain</td>\n",
              "      <td>45</td>\n",
              "      <td>55000</td>\n",
              "      <td>No</td>\n",
              "    </tr>\n",
              "  </tbody>\n",
              "</table>\n",
              "</div>\n",
              "      <button class=\"colab-df-convert\" onclick=\"convertToInteractive('df-682f49a1-0de2-4d1d-ad49-f52b61633f18')\"\n",
              "              title=\"Convert this dataframe to an interactive table.\"\n",
              "              style=\"display:none;\">\n",
              "        \n",
              "  <svg xmlns=\"http://www.w3.org/2000/svg\" height=\"24px\"viewBox=\"0 0 24 24\"\n",
              "       width=\"24px\">\n",
              "    <path d=\"M0 0h24v24H0V0z\" fill=\"none\"/>\n",
              "    <path d=\"M18.56 5.44l.94 2.06.94-2.06 2.06-.94-2.06-.94-.94-2.06-.94 2.06-2.06.94zm-11 1L8.5 8.5l.94-2.06 2.06-.94-2.06-.94L8.5 2.5l-.94 2.06-2.06.94zm10 10l.94 2.06.94-2.06 2.06-.94-2.06-.94-.94-2.06-.94 2.06-2.06.94z\"/><path d=\"M17.41 7.96l-1.37-1.37c-.4-.4-.92-.59-1.43-.59-.52 0-1.04.2-1.43.59L10.3 9.45l-7.72 7.72c-.78.78-.78 2.05 0 2.83L4 21.41c.39.39.9.59 1.41.59.51 0 1.02-.2 1.41-.59l7.78-7.78 2.81-2.81c.8-.78.8-2.07 0-2.86zM5.41 20L4 18.59l7.72-7.72 1.47 1.35L5.41 20z\"/>\n",
              "  </svg>\n",
              "      </button>\n",
              "      \n",
              "  <style>\n",
              "    .colab-df-container {\n",
              "      display:flex;\n",
              "      flex-wrap:wrap;\n",
              "      gap: 12px;\n",
              "    }\n",
              "\n",
              "    .colab-df-convert {\n",
              "      background-color: #E8F0FE;\n",
              "      border: none;\n",
              "      border-radius: 50%;\n",
              "      cursor: pointer;\n",
              "      display: none;\n",
              "      fill: #1967D2;\n",
              "      height: 32px;\n",
              "      padding: 0 0 0 0;\n",
              "      width: 32px;\n",
              "    }\n",
              "\n",
              "    .colab-df-convert:hover {\n",
              "      background-color: #E2EBFA;\n",
              "      box-shadow: 0px 1px 2px rgba(60, 64, 67, 0.3), 0px 1px 3px 1px rgba(60, 64, 67, 0.15);\n",
              "      fill: #174EA6;\n",
              "    }\n",
              "\n",
              "    [theme=dark] .colab-df-convert {\n",
              "      background-color: #3B4455;\n",
              "      fill: #D2E3FC;\n",
              "    }\n",
              "\n",
              "    [theme=dark] .colab-df-convert:hover {\n",
              "      background-color: #434B5C;\n",
              "      box-shadow: 0px 1px 3px 1px rgba(0, 0, 0, 0.15);\n",
              "      filter: drop-shadow(0px 1px 2px rgba(0, 0, 0, 0.3));\n",
              "      fill: #FFFFFF;\n",
              "    }\n",
              "  </style>\n",
              "\n",
              "      <script>\n",
              "        const buttonEl =\n",
              "          document.querySelector('#df-682f49a1-0de2-4d1d-ad49-f52b61633f18 button.colab-df-convert');\n",
              "        buttonEl.style.display =\n",
              "          google.colab.kernel.accessAllowed ? 'block' : 'none';\n",
              "\n",
              "        async function convertToInteractive(key) {\n",
              "          const element = document.querySelector('#df-682f49a1-0de2-4d1d-ad49-f52b61633f18');\n",
              "          const dataTable =\n",
              "            await google.colab.kernel.invokeFunction('convertToInteractive',\n",
              "                                                     [key], {});\n",
              "          if (!dataTable) return;\n",
              "\n",
              "          const docLinkHtml = 'Like what you see? Visit the ' +\n",
              "            '<a target=\"_blank\" href=https://colab.research.google.com/notebooks/data_table.ipynb>data table notebook</a>'\n",
              "            + ' to learn more about interactive tables.';\n",
              "          element.innerHTML = '';\n",
              "          dataTable['output_type'] = 'display_data';\n",
              "          await google.colab.output.renderOutput(dataTable, element);\n",
              "          const docLink = document.createElement('div');\n",
              "          docLink.innerHTML = docLinkHtml;\n",
              "          element.appendChild(docLink);\n",
              "        }\n",
              "      </script>\n",
              "    </div>\n",
              "  </div>\n",
              "  "
            ]
          },
          "metadata": {},
          "execution_count": 23
        }
      ]
    },
    {
      "cell_type": "code",
      "source": [
        "new_x = datasets.iloc[:,:-1].values\n",
        "new_y = datasets.iloc[:,-1].values"
      ],
      "metadata": {
        "id": "hfP9hPPp8PJW"
      },
      "execution_count": null,
      "outputs": []
    },
    {
      "cell_type": "code",
      "source": [
        "import numpy as np\n",
        "import pandas as pd\n",
        "from sklearn.impute import SimpleImputer\n",
        "\n",
        "datasets = pd.read_csv('Data_for_Missing_Values.csv')\n",
        "print(datasets)"
      ],
      "metadata": {
        "colab": {
          "base_uri": "https://localhost:8080/"
        },
        "id": "qmTJl91h8QTJ",
        "outputId": "55b3ad91-c23c-460f-86a9-f0e124c054f3"
      },
      "execution_count": null,
      "outputs": [
        {
          "output_type": "stream",
          "name": "stdout",
          "text": [
            "    Country   Age   Salary Purchased\n",
            "0    France  44.0  72000.0        No\n",
            "1     Spain  27.0  48000.0       Yes\n",
            "2   Germany  30.0  54000.0        No\n",
            "3     Spain  38.0  61000.0        No\n",
            "4       NaN   NaN      NaN       NaN\n",
            "5   Germany  40.0      NaN       Yes\n",
            "6    France  35.0  58000.0       Yes\n",
            "7     Spain   NaN  52000.0        No\n",
            "8    France  48.0  79000.0       Yes\n",
            "9   Germany  50.0  83000.0        No\n",
            "10   France  37.0  67000.0       Yes\n",
            "11    Spain  45.0  55000.0        No\n"
          ]
        }
      ]
    },
    {
      "cell_type": "code",
      "source": [
        "x = datasets.iloc[:,:-1].values\n",
        "y = datasets.iloc[:,-1].values"
      ],
      "metadata": {
        "id": "vddMlcVw8Wh2"
      },
      "execution_count": null,
      "outputs": []
    },
    {
      "cell_type": "code",
      "source": [
        "datasets.dropna(axis=0,how='all',inplace=True)\n",
        "print(datasets)"
      ],
      "metadata": {
        "colab": {
          "base_uri": "https://localhost:8080/"
        },
        "id": "SMINMhTD8X67",
        "outputId": "8b2e33cf-0670-4edf-aa80-635bd9538536"
      },
      "execution_count": null,
      "outputs": [
        {
          "output_type": "stream",
          "name": "stdout",
          "text": [
            "    Country   Age   Salary Purchased\n",
            "0    France  44.0  72000.0        No\n",
            "1     Spain  27.0  48000.0       Yes\n",
            "2   Germany  30.0  54000.0        No\n",
            "3     Spain  38.0  61000.0        No\n",
            "5   Germany  40.0      NaN       Yes\n",
            "6    France  35.0  58000.0       Yes\n",
            "7     Spain   NaN  52000.0        No\n",
            "8    France  48.0  79000.0       Yes\n",
            "9   Germany  50.0  83000.0        No\n",
            "10   France  37.0  67000.0       Yes\n",
            "11    Spain  45.0  55000.0        No\n"
          ]
        }
      ]
    },
    {
      "cell_type": "code",
      "source": [
        "new_x = datasets.iloc[:,:-1].values\n",
        "new_y = datasets.iloc[:,-1].values\n",
        "\n",
        "updated_df['Age'].fillna(updated_df['Age'].mean())"
      ],
      "metadata": {
        "colab": {
          "base_uri": "https://localhost:8080/"
        },
        "id": "cDv2FHPA8aMD",
        "outputId": "40b50c93-b0ee-46b3-bba4-b92534f6edab"
      },
      "execution_count": null,
      "outputs": [
        {
          "output_type": "execute_result",
          "data": {
            "text/plain": [
              "0     44\n",
              "1     27\n",
              "2     30\n",
              "3     38\n",
              "4     40\n",
              "5     35\n",
              "6     39\n",
              "7     48\n",
              "8     50\n",
              "9     37\n",
              "10    45\n",
              "Name: Age, dtype: int64"
            ]
          },
          "metadata": {},
          "execution_count": 28
        }
      ]
    },
    {
      "cell_type": "code",
      "source": [
        "imputer = SimpleImputer(missing_values=np.nan,strategy='mean')\n",
        "imputer = imputer.fit(new_x[:,1:3])\n",
        "new_x[:,1:3] = imputer.transform(new_x[:,1:3])\n",
        "print(new_x)"
      ],
      "metadata": {
        "colab": {
          "base_uri": "https://localhost:8080/"
        },
        "id": "vsUo5Ze88eE3",
        "outputId": "e1358779-99db-453a-bdcc-4fbbe4edeb0a"
      },
      "execution_count": null,
      "outputs": [
        {
          "output_type": "stream",
          "name": "stdout",
          "text": [
            "[['France' 44.0 72000.0]\n",
            " ['Spain' 27.0 48000.0]\n",
            " ['Germany' 30.0 54000.0]\n",
            " ['Spain' 38.0 61000.0]\n",
            " ['Germany' 40.0 62900.0]\n",
            " ['France' 35.0 58000.0]\n",
            " ['Spain' 39.4 52000.0]\n",
            " ['France' 48.0 79000.0]\n",
            " ['Germany' 50.0 83000.0]\n",
            " ['France' 37.0 67000.0]\n",
            " ['Spain' 45.0 55000.0]]\n"
          ]
        }
      ]
    },
    {
      "cell_type": "code",
      "source": [
        "import numpy as np\n",
        "import pandas as pd\n",
        "import seaborn as sns\n",
        "     \n",
        "\n",
        "data = pd.read_csv('Data_for_Correlation.csv')\n",
        "data.head()\n",
        "     "
      ],
      "metadata": {
        "colab": {
          "base_uri": "https://localhost:8080/",
          "height": 206
        },
        "id": "kzowXPeA8ijb",
        "outputId": "6a4de95e-8234-485d-997d-f77e1d77d56c"
      },
      "execution_count": null,
      "outputs": [
        {
          "output_type": "execute_result",
          "data": {
            "text/plain": [
              "   X1  X2  X3  X4  Y\n",
              "0   1   1   4  -2  1\n",
              "1   2   4   5  -4  1\n",
              "2   3   9   6   3  0\n",
              "3   4  16   7   4  0\n",
              "4   5  25   8  25  1"
            ],
            "text/html": [
              "\n",
              "  <div id=\"df-a2d0d212-5512-4a6a-b41f-f8b2d741e52f\">\n",
              "    <div class=\"colab-df-container\">\n",
              "      <div>\n",
              "<style scoped>\n",
              "    .dataframe tbody tr th:only-of-type {\n",
              "        vertical-align: middle;\n",
              "    }\n",
              "\n",
              "    .dataframe tbody tr th {\n",
              "        vertical-align: top;\n",
              "    }\n",
              "\n",
              "    .dataframe thead th {\n",
              "        text-align: right;\n",
              "    }\n",
              "</style>\n",
              "<table border=\"1\" class=\"dataframe\">\n",
              "  <thead>\n",
              "    <tr style=\"text-align: right;\">\n",
              "      <th></th>\n",
              "      <th>X1</th>\n",
              "      <th>X2</th>\n",
              "      <th>X3</th>\n",
              "      <th>X4</th>\n",
              "      <th>Y</th>\n",
              "    </tr>\n",
              "  </thead>\n",
              "  <tbody>\n",
              "    <tr>\n",
              "      <th>0</th>\n",
              "      <td>1</td>\n",
              "      <td>1</td>\n",
              "      <td>4</td>\n",
              "      <td>-2</td>\n",
              "      <td>1</td>\n",
              "    </tr>\n",
              "    <tr>\n",
              "      <th>1</th>\n",
              "      <td>2</td>\n",
              "      <td>4</td>\n",
              "      <td>5</td>\n",
              "      <td>-4</td>\n",
              "      <td>1</td>\n",
              "    </tr>\n",
              "    <tr>\n",
              "      <th>2</th>\n",
              "      <td>3</td>\n",
              "      <td>9</td>\n",
              "      <td>6</td>\n",
              "      <td>3</td>\n",
              "      <td>0</td>\n",
              "    </tr>\n",
              "    <tr>\n",
              "      <th>3</th>\n",
              "      <td>4</td>\n",
              "      <td>16</td>\n",
              "      <td>7</td>\n",
              "      <td>4</td>\n",
              "      <td>0</td>\n",
              "    </tr>\n",
              "    <tr>\n",
              "      <th>4</th>\n",
              "      <td>5</td>\n",
              "      <td>25</td>\n",
              "      <td>8</td>\n",
              "      <td>25</td>\n",
              "      <td>1</td>\n",
              "    </tr>\n",
              "  </tbody>\n",
              "</table>\n",
              "</div>\n",
              "      <button class=\"colab-df-convert\" onclick=\"convertToInteractive('df-a2d0d212-5512-4a6a-b41f-f8b2d741e52f')\"\n",
              "              title=\"Convert this dataframe to an interactive table.\"\n",
              "              style=\"display:none;\">\n",
              "        \n",
              "  <svg xmlns=\"http://www.w3.org/2000/svg\" height=\"24px\"viewBox=\"0 0 24 24\"\n",
              "       width=\"24px\">\n",
              "    <path d=\"M0 0h24v24H0V0z\" fill=\"none\"/>\n",
              "    <path d=\"M18.56 5.44l.94 2.06.94-2.06 2.06-.94-2.06-.94-.94-2.06-.94 2.06-2.06.94zm-11 1L8.5 8.5l.94-2.06 2.06-.94-2.06-.94L8.5 2.5l-.94 2.06-2.06.94zm10 10l.94 2.06.94-2.06 2.06-.94-2.06-.94-.94-2.06-.94 2.06-2.06.94z\"/><path d=\"M17.41 7.96l-1.37-1.37c-.4-.4-.92-.59-1.43-.59-.52 0-1.04.2-1.43.59L10.3 9.45l-7.72 7.72c-.78.78-.78 2.05 0 2.83L4 21.41c.39.39.9.59 1.41.59.51 0 1.02-.2 1.41-.59l7.78-7.78 2.81-2.81c.8-.78.8-2.07 0-2.86zM5.41 20L4 18.59l7.72-7.72 1.47 1.35L5.41 20z\"/>\n",
              "  </svg>\n",
              "      </button>\n",
              "      \n",
              "  <style>\n",
              "    .colab-df-container {\n",
              "      display:flex;\n",
              "      flex-wrap:wrap;\n",
              "      gap: 12px;\n",
              "    }\n",
              "\n",
              "    .colab-df-convert {\n",
              "      background-color: #E8F0FE;\n",
              "      border: none;\n",
              "      border-radius: 50%;\n",
              "      cursor: pointer;\n",
              "      display: none;\n",
              "      fill: #1967D2;\n",
              "      height: 32px;\n",
              "      padding: 0 0 0 0;\n",
              "      width: 32px;\n",
              "    }\n",
              "\n",
              "    .colab-df-convert:hover {\n",
              "      background-color: #E2EBFA;\n",
              "      box-shadow: 0px 1px 2px rgba(60, 64, 67, 0.3), 0px 1px 3px 1px rgba(60, 64, 67, 0.15);\n",
              "      fill: #174EA6;\n",
              "    }\n",
              "\n",
              "    [theme=dark] .colab-df-convert {\n",
              "      background-color: #3B4455;\n",
              "      fill: #D2E3FC;\n",
              "    }\n",
              "\n",
              "    [theme=dark] .colab-df-convert:hover {\n",
              "      background-color: #434B5C;\n",
              "      box-shadow: 0px 1px 3px 1px rgba(0, 0, 0, 0.15);\n",
              "      filter: drop-shadow(0px 1px 2px rgba(0, 0, 0, 0.3));\n",
              "      fill: #FFFFFF;\n",
              "    }\n",
              "  </style>\n",
              "\n",
              "      <script>\n",
              "        const buttonEl =\n",
              "          document.querySelector('#df-a2d0d212-5512-4a6a-b41f-f8b2d741e52f button.colab-df-convert');\n",
              "        buttonEl.style.display =\n",
              "          google.colab.kernel.accessAllowed ? 'block' : 'none';\n",
              "\n",
              "        async function convertToInteractive(key) {\n",
              "          const element = document.querySelector('#df-a2d0d212-5512-4a6a-b41f-f8b2d741e52f');\n",
              "          const dataTable =\n",
              "            await google.colab.kernel.invokeFunction('convertToInteractive',\n",
              "                                                     [key], {});\n",
              "          if (!dataTable) return;\n",
              "\n",
              "          const docLinkHtml = 'Like what you see? Visit the ' +\n",
              "            '<a target=\"_blank\" href=https://colab.research.google.com/notebooks/data_table.ipynb>data table notebook</a>'\n",
              "            + ' to learn more about interactive tables.';\n",
              "          element.innerHTML = '';\n",
              "          dataTable['output_type'] = 'display_data';\n",
              "          await google.colab.output.renderOutput(dataTable, element);\n",
              "          const docLink = document.createElement('div');\n",
              "          docLink.innerHTML = docLinkHtml;\n",
              "          element.appendChild(docLink);\n",
              "        }\n",
              "      </script>\n",
              "    </div>\n",
              "  </div>\n",
              "  "
            ]
          },
          "metadata": {},
          "execution_count": 31
        }
      ]
    },
    {
      "cell_type": "code",
      "source": [
        "corr = data.corr()\n",
        "corr.head()"
      ],
      "metadata": {
        "colab": {
          "base_uri": "https://localhost:8080/",
          "height": 206
        },
        "id": "gJbf7f2d9mij",
        "outputId": "b32800df-afa5-4b09-feef-a61a2d6ac84e"
      },
      "execution_count": null,
      "outputs": [
        {
          "output_type": "execute_result",
          "data": {
            "text/plain": [
              "          X1        X2        X3        X4         Y\n",
              "X1  1.000000  0.972714  1.000000  0.263266 -0.017719\n",
              "X2  0.972714  1.000000  0.972714  0.163575  0.074688\n",
              "X3  1.000000  0.972714  1.000000  0.263266 -0.017719\n",
              "X4  0.263266  0.163575  0.263266  1.000000 -0.002424\n",
              "Y  -0.017719  0.074688 -0.017719 -0.002424  1.000000"
            ],
            "text/html": [
              "\n",
              "  <div id=\"df-7b458edd-f463-429a-bf2c-443aa18ae74d\">\n",
              "    <div class=\"colab-df-container\">\n",
              "      <div>\n",
              "<style scoped>\n",
              "    .dataframe tbody tr th:only-of-type {\n",
              "        vertical-align: middle;\n",
              "    }\n",
              "\n",
              "    .dataframe tbody tr th {\n",
              "        vertical-align: top;\n",
              "    }\n",
              "\n",
              "    .dataframe thead th {\n",
              "        text-align: right;\n",
              "    }\n",
              "</style>\n",
              "<table border=\"1\" class=\"dataframe\">\n",
              "  <thead>\n",
              "    <tr style=\"text-align: right;\">\n",
              "      <th></th>\n",
              "      <th>X1</th>\n",
              "      <th>X2</th>\n",
              "      <th>X3</th>\n",
              "      <th>X4</th>\n",
              "      <th>Y</th>\n",
              "    </tr>\n",
              "  </thead>\n",
              "  <tbody>\n",
              "    <tr>\n",
              "      <th>X1</th>\n",
              "      <td>1.000000</td>\n",
              "      <td>0.972714</td>\n",
              "      <td>1.000000</td>\n",
              "      <td>0.263266</td>\n",
              "      <td>-0.017719</td>\n",
              "    </tr>\n",
              "    <tr>\n",
              "      <th>X2</th>\n",
              "      <td>0.972714</td>\n",
              "      <td>1.000000</td>\n",
              "      <td>0.972714</td>\n",
              "      <td>0.163575</td>\n",
              "      <td>0.074688</td>\n",
              "    </tr>\n",
              "    <tr>\n",
              "      <th>X3</th>\n",
              "      <td>1.000000</td>\n",
              "      <td>0.972714</td>\n",
              "      <td>1.000000</td>\n",
              "      <td>0.263266</td>\n",
              "      <td>-0.017719</td>\n",
              "    </tr>\n",
              "    <tr>\n",
              "      <th>X4</th>\n",
              "      <td>0.263266</td>\n",
              "      <td>0.163575</td>\n",
              "      <td>0.263266</td>\n",
              "      <td>1.000000</td>\n",
              "      <td>-0.002424</td>\n",
              "    </tr>\n",
              "    <tr>\n",
              "      <th>Y</th>\n",
              "      <td>-0.017719</td>\n",
              "      <td>0.074688</td>\n",
              "      <td>-0.017719</td>\n",
              "      <td>-0.002424</td>\n",
              "      <td>1.000000</td>\n",
              "    </tr>\n",
              "  </tbody>\n",
              "</table>\n",
              "</div>\n",
              "      <button class=\"colab-df-convert\" onclick=\"convertToInteractive('df-7b458edd-f463-429a-bf2c-443aa18ae74d')\"\n",
              "              title=\"Convert this dataframe to an interactive table.\"\n",
              "              style=\"display:none;\">\n",
              "        \n",
              "  <svg xmlns=\"http://www.w3.org/2000/svg\" height=\"24px\"viewBox=\"0 0 24 24\"\n",
              "       width=\"24px\">\n",
              "    <path d=\"M0 0h24v24H0V0z\" fill=\"none\"/>\n",
              "    <path d=\"M18.56 5.44l.94 2.06.94-2.06 2.06-.94-2.06-.94-.94-2.06-.94 2.06-2.06.94zm-11 1L8.5 8.5l.94-2.06 2.06-.94-2.06-.94L8.5 2.5l-.94 2.06-2.06.94zm10 10l.94 2.06.94-2.06 2.06-.94-2.06-.94-.94-2.06-.94 2.06-2.06.94z\"/><path d=\"M17.41 7.96l-1.37-1.37c-.4-.4-.92-.59-1.43-.59-.52 0-1.04.2-1.43.59L10.3 9.45l-7.72 7.72c-.78.78-.78 2.05 0 2.83L4 21.41c.39.39.9.59 1.41.59.51 0 1.02-.2 1.41-.59l7.78-7.78 2.81-2.81c.8-.78.8-2.07 0-2.86zM5.41 20L4 18.59l7.72-7.72 1.47 1.35L5.41 20z\"/>\n",
              "  </svg>\n",
              "      </button>\n",
              "      \n",
              "  <style>\n",
              "    .colab-df-container {\n",
              "      display:flex;\n",
              "      flex-wrap:wrap;\n",
              "      gap: 12px;\n",
              "    }\n",
              "\n",
              "    .colab-df-convert {\n",
              "      background-color: #E8F0FE;\n",
              "      border: none;\n",
              "      border-radius: 50%;\n",
              "      cursor: pointer;\n",
              "      display: none;\n",
              "      fill: #1967D2;\n",
              "      height: 32px;\n",
              "      padding: 0 0 0 0;\n",
              "      width: 32px;\n",
              "    }\n",
              "\n",
              "    .colab-df-convert:hover {\n",
              "      background-color: #E2EBFA;\n",
              "      box-shadow: 0px 1px 2px rgba(60, 64, 67, 0.3), 0px 1px 3px 1px rgba(60, 64, 67, 0.15);\n",
              "      fill: #174EA6;\n",
              "    }\n",
              "\n",
              "    [theme=dark] .colab-df-convert {\n",
              "      background-color: #3B4455;\n",
              "      fill: #D2E3FC;\n",
              "    }\n",
              "\n",
              "    [theme=dark] .colab-df-convert:hover {\n",
              "      background-color: #434B5C;\n",
              "      box-shadow: 0px 1px 3px 1px rgba(0, 0, 0, 0.15);\n",
              "      filter: drop-shadow(0px 1px 2px rgba(0, 0, 0, 0.3));\n",
              "      fill: #FFFFFF;\n",
              "    }\n",
              "  </style>\n",
              "\n",
              "      <script>\n",
              "        const buttonEl =\n",
              "          document.querySelector('#df-7b458edd-f463-429a-bf2c-443aa18ae74d button.colab-df-convert');\n",
              "        buttonEl.style.display =\n",
              "          google.colab.kernel.accessAllowed ? 'block' : 'none';\n",
              "\n",
              "        async function convertToInteractive(key) {\n",
              "          const element = document.querySelector('#df-7b458edd-f463-429a-bf2c-443aa18ae74d');\n",
              "          const dataTable =\n",
              "            await google.colab.kernel.invokeFunction('convertToInteractive',\n",
              "                                                     [key], {});\n",
              "          if (!dataTable) return;\n",
              "\n",
              "          const docLinkHtml = 'Like what you see? Visit the ' +\n",
              "            '<a target=\"_blank\" href=https://colab.research.google.com/notebooks/data_table.ipynb>data table notebook</a>'\n",
              "            + ' to learn more about interactive tables.';\n",
              "          element.innerHTML = '';\n",
              "          dataTable['output_type'] = 'display_data';\n",
              "          await google.colab.output.renderOutput(dataTable, element);\n",
              "          const docLink = document.createElement('div');\n",
              "          docLink.innerHTML = docLinkHtml;\n",
              "          element.appendChild(docLink);\n",
              "        }\n",
              "      </script>\n",
              "    </div>\n",
              "  </div>\n",
              "  "
            ]
          },
          "metadata": {},
          "execution_count": 32
        }
      ]
    },
    {
      "cell_type": "code",
      "source": [
        "sns.heatmap(corr)"
      ],
      "metadata": {
        "colab": {
          "base_uri": "https://localhost:8080/",
          "height": 287
        },
        "id": "ZulXa9y49pAi",
        "outputId": "a4c7a34d-9d19-41a8-b1fc-fba696c7902a"
      },
      "execution_count": null,
      "outputs": [
        {
          "output_type": "execute_result",
          "data": {
            "text/plain": [
              "<matplotlib.axes._subplots.AxesSubplot at 0x7fd35c9551c0>"
            ]
          },
          "metadata": {},
          "execution_count": 33
        },
        {
          "output_type": "display_data",
          "data": {
            "text/plain": [
              "<Figure size 432x288 with 2 Axes>"
            ],
            "image/png": "[encoded data removed]"
          },
          "metadata": {
            "needs_background": "light"
          }
        }
      ]
    },
    {
      "cell_type": "code",
      "source": [
        "print(corr.shape[0])\n",
        "columns = np.full((corr.shape[0],),True,dtype=bool)\n",
        "print(corr.iloc[:,:])\n",
        "for i in range(corr.shape[0]):\n",
        "  for j in range(i+1,corr.shape[0]):\n",
        "    if corr.iloc[i,j] >= 0.9:\n",
        "      if columns[j]:\n",
        "        columns[j] = False\n",
        "\n",
        "print(columns)"
      ],
      "metadata": {
        "colab": {
          "base_uri": "https://localhost:8080/"
        },
        "id": "hVK1xae09rlF",
        "outputId": "5514b177-5a09-44be-e413-3eed1e16e1e0"
      },
      "execution_count": null,
      "outputs": [
        {
          "output_type": "stream",
          "name": "stdout",
          "text": [
            "5\n",
            "          X1        X2        X3        X4         Y\n",
            "X1  1.000000  0.972714  1.000000  0.263266 -0.017719\n",
            "X2  0.972714  1.000000  0.972714  0.163575  0.074688\n",
            "X3  1.000000  0.972714  1.000000  0.263266 -0.017719\n",
            "X4  0.263266  0.163575  0.263266  1.000000 -0.002424\n",
            "Y  -0.017719  0.074688 -0.017719 -0.002424  1.000000\n",
            "[ True False False  True  True]\n"
          ]
        }
      ]
    },
    {
      "cell_type": "code",
      "source": [
        "selected_columns = data.columns[columns]\n",
        "print(data.columns)\n",
        "print(selected_columns)\n",
        "selected_columns.shape"
      ],
      "metadata": {
        "colab": {
          "base_uri": "https://localhost:8080/"
        },
        "id": "mBZjCfeE9vVt",
        "outputId": "9562b043-d725-487a-bdc9-08cfa5cdc3bf"
      },
      "execution_count": null,
      "outputs": [
        {
          "output_type": "stream",
          "name": "stdout",
          "text": [
            "Index(['X1', 'X2', 'X3', 'X4', 'Y'], dtype='object')\n",
            "Index(['X1', 'X4', 'Y'], dtype='object')\n"
          ]
        },
        {
          "output_type": "execute_result",
          "data": {
            "text/plain": [
              "(3,)"
            ]
          },
          "metadata": {},
          "execution_count": 35
        }
      ]
    },
    {
      "cell_type": "code",
      "source": [
        "data = data[selected_columns]\n",
        "print(data)"
      ],
      "metadata": {
        "colab": {
          "base_uri": "https://localhost:8080/"
        },
        "id": "cB89J6oL92oq",
        "outputId": "802f7d78-4030-44d9-ffbe-d795d47bb58f"
      },
      "execution_count": null,
      "outputs": [
        {
          "output_type": "stream",
          "name": "stdout",
          "text": [
            "    X1   X4  Y\n",
            "0    1   -2  1\n",
            "1    2   -4  1\n",
            "2    3    3  0\n",
            "3    4    4  0\n",
            "4    5   25  1\n",
            "5    6   76  0\n",
            "6    7   34  1\n",
            "7    8  346  0\n",
            "8    9   67  0\n",
            "9   10    3  0\n",
            "10  11  355  1\n",
            "11  12   88  1\n",
            "12  13    2  0\n",
            "13  14    1  1\n"
          ]
        }
      ]
    },
    {
      "cell_type": "markdown",
      "source": [
        "EXERCISE\n"
      ],
      "metadata": {
        "id": "3aB2SZyP-BO8"
      }
    },
    {
      "cell_type": "code",
      "source": [
        "import numpy as np\n",
        "import pandas as pd\n",
        "\n",
        "# Identifying the null values\n",
        "\n",
        "missing_values = [\"??\", \"????\", None, \"NaN\", np.nan]\n",
        "\n",
        "df = pd.read_csv(\"Exercise-CarData.csv\",na_values=missing_values)\n",
        "\n",
        "cnt = 0\n",
        "for val in df['Price']:\n",
        "  if type(val)!=type(3):\n",
        "    df.loc[cnt, 'Price']=np.nan\n",
        "  else:\n",
        "    df.loc[cnt, 'Price'] = int(val)\n",
        "  cnt+=1\n",
        "\n",
        "cnt = 0\n",
        "for val in df['Age']:\n",
        "  try:\n",
        "    if type(int(val))!=type(3):\n",
        "      df.loc[cnt, 'Age']=np.nan\n",
        "    else:\n",
        "      df.loc[cnt, 'Age'] = int(val)\n",
        "  except ValueError:\n",
        "    df.loc[cnt, 'Age']=np.nan\n",
        "    pass\n",
        "  cnt+=1\n",
        "\n",
        "cnt = 0\n",
        "for val in df['KM']:\n",
        "  try:\n",
        "    if type(int(val))!=type(3):\n",
        "      df.loc[cnt, 'KM']=np.nan\n",
        "    else:\n",
        "      df.loc[cnt, 'KM'] = int(val)\n",
        "  except ValueError:\n",
        "    df.loc[cnt, 'KM']=np.nan\n",
        "    pass\n",
        "    cnt+=1\n",
        "\n",
        "cnt = 0\n",
        "for val in df['FuelType']:\n",
        "  try:\n",
        "      int(val)\n",
        "      df.loc[cnt, 'FuelType']=np.nan\n",
        "  except ValueError:\n",
        "      pass\n",
        "  cnt+=1\n",
        "\n",
        "cnt = 0\n",
        "for val in df['HP']:\n",
        "  try:\n",
        "    if type(int(val))!=type(3):\n",
        "      df.loc[cnt, 'HP']=np.nan\n",
        "    else:\n",
        "      df.loc[cnt, 'HP'] = int(val)\n",
        "  except ValueError:\n",
        "    df.loc[cnt, 'HP']=np.nan\n",
        "    pass\n",
        "  cnt+=1\n",
        "\n",
        "  cnt = 0\n",
        "for val in df['FuelType']:\n",
        "  try:\n",
        "      int(val)\n",
        "      df.loc[cnt, 'FuelType']=np.nan\n",
        "  except ValueError:\n",
        "      pass\n",
        "  cnt+=1\n",
        "\n",
        "cnt = 0\n",
        "for val in df['HP']:\n",
        "  try:\n",
        "    if type(int(val))!=type(3):\n",
        "      df.loc[cnt, 'HP']=np.nan\n",
        "    else:\n",
        "      df.loc[cnt, 'HP'] = int(val)\n",
        "  except ValueError:\n",
        "    df.loc[cnt, 'HP']=np.nan\n",
        "    pass\n",
        "  cnt+=1\n",
        "\n",
        "cnt = 0\n",
        "for val in df['MetColor']:\n",
        "  try:\n",
        "    if type(int(val))!=type(3):\n",
        "      df.loc[cnt, 'MetColor']=np.nan\n",
        "    else:\n",
        "       df.loc[cnt, 'MetColor'] = int(val)\n",
        "  except ValueError:\n",
        "    df.loc[cnt, 'MetColor']=np.nan\n",
        "    pass\n",
        "  cnt+=1\n",
        "\n",
        "cnt = 0\n",
        "for val in df['Automatic']:\n",
        "  try:\n",
        "    if type(int(val))!=type(3):\n",
        "      df.loc[cnt, 'Automatic']=np.nan\n",
        "    else:\n",
        "      df.loc[cnt, 'Automatic'] = int(val)\n",
        "  except ValueError:\n",
        "    df.loc[cnt, 'Automatic']=np.nan\n",
        "    pass\n",
        "  cnt+=1\n",
        "\n",
        "cnt = 0\n",
        "for val in df['CC']:\n",
        "  try:\n",
        "    if type(int(val))!=type(3):\n",
        "      df.loc[cnt, 'CC']=np.nan\n",
        "    else:\n",
        "      df.loc[cnt, 'CC'] = int(val)\n",
        "  except ValueError:\n",
        "    df.loc[cnt, 'CC']=np.nan\n",
        "    pass\n",
        "  cnt+=1\n",
        "\n",
        "cnt = 0\n",
        "for val in df['Doors']:\n",
        "  try:\n",
        "    if type(int(val))!=type(3):\n",
        "      df.loc[cnt, 'Doors']=np.nan\n",
        "    else:\n",
        "      df.loc[cnt, 'Doors'] = int(val)\n",
        "  except ValueError:\n",
        "    df.loc[cnt, 'Doors']=np.nan\n",
        "    pass\n",
        "  cnt+=1\n",
        "\n",
        "cnt = 0\n",
        "for val in df['Weight']:\n",
        "  try:\n",
        "    if type(int(val))!=type(3):\n",
        "      df.loc[cnt, 'Weight']=np.nan\n",
        "    else:\n",
        "      df.loc[cnt, 'Weight'] = int(val)\n",
        "  except ValueError:\n",
        "    df.loc[cnt, 'Weight']=np.nan\n",
        "    pass\n",
        "  cnt+=1\n",
        "\n",
        "print(df.isnull().sum())\n",
        "print(\"Total dirty values: \",df.isnull().sum().sum())"
      ],
      "metadata": {
        "colab": {
          "base_uri": "https://localhost:8080/"
        },
        "id": "rIVY25jL-EKY",
        "outputId": "2149017f-6d5c-4842-eac5-a16e279c88db"
      },
      "execution_count": null,
      "outputs": [
        {
          "output_type": "stream",
          "name": "stdout",
          "text": [
            "Unnamed: 0      0\n",
            "Price           0\n",
            "Age           100\n",
            "KM             29\n",
            "FuelType      100\n",
            "HP              6\n",
            "MetColor      150\n",
            "Automatic       0\n",
            "CC              0\n",
            "Doors           3\n",
            "Weight          0\n",
            "dtype: int64\n",
            "Total dirty values:  388\n"
          ]
        }
      ]
    },
    {
      "cell_type": "code",
      "source": [
        "datasets = df\n",
        "x = datasets.iloc[:,1:].values"
      ],
      "metadata": {
        "id": "3lXtdsi-BGuW"
      },
      "execution_count": null,
      "outputs": []
    },
    {
      "cell_type": "code",
      "source": [
        "from sklearn.preprocessing import OneHotEncoder\n",
        "\n",
        "print(datasets.head())\n",
        "# Dropping all the rows having any NaN values\n",
        "datasets.dropna(axis=0, how='any', inplace=True)\n",
        "print(datasets.head())"
      ],
      "metadata": {
        "colab": {
          "base_uri": "https://localhost:8080/"
        },
        "id": "jJQsVECsAkYp",
        "outputId": "bd8a4b83-eae3-4a4d-d67e-7492d86de382"
      },
      "execution_count": null,
      "outputs": [
        {
          "output_type": "stream",
          "name": "stdout",
          "text": [
            "    Unnamed: 0  Price   Age       KM FuelType     HP  MetColor  Automatic  \\\n",
            "16          16  22750  30.0  34000.0   Petrol  192.0       1.0          0   \n",
            "17          17  17950  24.0  21716.0   Petrol  110.0       1.0          0   \n",
            "18          18  16750  24.0  25563.0   Petrol  110.0       0.0          0   \n",
            "19          19  16950  30.0  64359.0   Petrol  110.0       1.0          0   \n",
            "20          20  15950  30.0  67660.0   Petrol  110.0       1.0          0   \n",
            "\n",
            "      CC Doors  Weight  \n",
            "16  1800     3    1185  \n",
            "17  1600     3    1105  \n",
            "18  1600     3    1065  \n",
            "19  1600     3    1105  \n",
            "20  1600     3    1105  \n",
            "    Unnamed: 0  Price   Age       KM FuelType     HP  MetColor  Automatic  \\\n",
            "16          16  22750  30.0  34000.0   Petrol  192.0       1.0          0   \n",
            "17          17  17950  24.0  21716.0   Petrol  110.0       1.0          0   \n",
            "18          18  16750  24.0  25563.0   Petrol  110.0       0.0          0   \n",
            "19          19  16950  30.0  64359.0   Petrol  110.0       1.0          0   \n",
            "20          20  15950  30.0  67660.0   Petrol  110.0       1.0          0   \n",
            "\n",
            "      CC Doors  Weight  \n",
            "16  1800     3    1185  \n",
            "17  1600     3    1105  \n",
            "18  1600     3    1065  \n",
            "19  1600     3    1105  \n",
            "20  1600     3    1105  \n"
          ]
        }
      ]
    },
    {
      "cell_type": "code",
      "source": [
        "# One hot for Fuel type\n",
        "\n",
        "dummy = pd.get_dummies(datasets['FuelType'])\n",
        "datasets = datasets.drop(['FuelType'],axis=1)\n",
        "datasets = datasets.drop(['Unnamed: 0'],axis=1)\n",
        "datasets = pd.concat([dummy,datasets],axis=1)\n",
        "print(datasets)"
      ],
      "metadata": {
        "colab": {
          "base_uri": "https://localhost:8080/"
        },
        "id": "KCzSopmfBQpk",
        "outputId": "f4fbfa89-81a4-451a-fd5d-b41c1434f5e5"
      },
      "execution_count": null,
      "outputs": [
        {
          "output_type": "stream",
          "name": "stdout",
          "text": [
            "      CNG  Diesel  Petrol  Price   Age       KM     HP  MetColor  Automatic  \\\n",
            "16      0       0       1  22750  30.0  34000.0  192.0       1.0          0   \n",
            "17      0       0       1  17950  24.0  21716.0  110.0       1.0          0   \n",
            "18      0       0       1  16750  24.0  25563.0  110.0       0.0          0   \n",
            "19      0       0       1  16950  30.0  64359.0  110.0       1.0          0   \n",
            "20      0       0       1  15950  30.0  67660.0  110.0       1.0          0   \n",
            "...   ...     ...     ...    ...   ...      ...    ...       ...        ...   \n",
            "1423    0       0       1   7950  80.0  35821.0   86.0       0.0          1   \n",
            "1424    0       0       1   7750  73.0  34717.0   86.0       0.0          0   \n",
            "1429    0       0       1   8950  78.0  24000.0   86.0       1.0          1   \n",
            "1430    0       0       1   8450  80.0  23000.0   86.0       0.0          0   \n",
            "1435    0       0       1   6950  76.0      1.0  110.0       0.0          0   \n",
            "\n",
            "        CC Doors  Weight  \n",
            "16    1800     3    1185  \n",
            "17    1600     3    1105  \n",
            "18    1600     3    1065  \n",
            "19    1600     3    1105  \n",
            "20    1600     3    1105  \n",
            "...    ...   ...     ...  \n",
            "1423  1300     3    1015  \n",
            "1424  1300     3    1015  \n",
            "1429  1300     5    1065  \n",
            "1430  1300     3    1015  \n",
            "1435  1600     5    1114  \n",
            "\n",
            "[1083 rows x 12 columns]\n"
          ]
        }
      ]
    },
    {
      "cell_type": "code",
      "source": [
        "# Performing standardization on data\n",
        "updated_df = datasets\n",
        "\n",
        "for col in updated_df:\n",
        "  updated_df[col] = updated_df[col].fillna(updated_df[col].mean())\n",
        "\n",
        "print(updated_df)\n",
        "     "
      ],
      "metadata": {
        "colab": {
          "base_uri": "https://localhost:8080/"
        },
        "id": "qOfd6xDwBRWR",
        "outputId": "f304a0e3-8699-448b-be47-ee1980ff02ea"
      },
      "execution_count": null,
      "outputs": [
        {
          "output_type": "stream",
          "name": "stdout",
          "text": [
            "      CNG  Diesel  Petrol  Price   Age       KM     HP  MetColor  Automatic  \\\n",
            "16      0       0       1  22750  30.0  34000.0  192.0       1.0          0   \n",
            "17      0       0       1  17950  24.0  21716.0  110.0       1.0          0   \n",
            "18      0       0       1  16750  24.0  25563.0  110.0       0.0          0   \n",
            "19      0       0       1  16950  30.0  64359.0  110.0       1.0          0   \n",
            "20      0       0       1  15950  30.0  67660.0  110.0       1.0          0   \n",
            "...   ...     ...     ...    ...   ...      ...    ...       ...        ...   \n",
            "1423    0       0       1   7950  80.0  35821.0   86.0       0.0          1   \n",
            "1424    0       0       1   7750  73.0  34717.0   86.0       0.0          0   \n",
            "1429    0       0       1   8950  78.0  24000.0   86.0       1.0          1   \n",
            "1430    0       0       1   8450  80.0  23000.0   86.0       0.0          0   \n",
            "1435    0       0       1   6950  76.0      1.0  110.0       0.0          0   \n",
            "\n",
            "        CC  Doors  Weight  \n",
            "16    1800      3    1185  \n",
            "17    1600      3    1105  \n",
            "18    1600      3    1065  \n",
            "19    1600      3    1105  \n",
            "20    1600      3    1105  \n",
            "...    ...    ...     ...  \n",
            "1423  1300      3    1015  \n",
            "1424  1300      3    1015  \n",
            "1429  1300      5    1065  \n",
            "1430  1300      3    1015  \n",
            "1435  1600      5    1114  \n",
            "\n",
            "[1083 rows x 12 columns]\n"
          ]
        }
      ]
    },
    {
      "cell_type": "code",
      "source": [
        "# Finding and removing correlation\n",
        "\n",
        "data = updated_df\n",
        "print(data.head())\n",
        "count = 0\n",
        "for val in data['Doors']:\n",
        "  data.at[count, 'Doors'] = int(val)\n",
        "  count+=1\n",
        "\n",
        "corr = data.corr()\n",
        "print(corr.head())\n",
        "\n",
        "sns.heatmap(corr)"
      ],
      "metadata": {
        "colab": {
          "base_uri": "https://localhost:8080/",
          "height": 800
        },
        "id": "2Tcv8tGZBUdF",
        "outputId": "ab4d9339-f86d-425c-cf04-eb31ed44482a"
      },
      "execution_count": null,
      "outputs": [
        {
          "output_type": "stream",
          "name": "stdout",
          "text": [
            "    CNG  Diesel  Petrol  Price   Age       KM     HP  MetColor  Automatic  \\\n",
            "16    0       0       1  22750  30.0  34000.0  192.0       1.0          0   \n",
            "17    0       0       1  17950  24.0  21716.0  110.0       1.0          0   \n",
            "18    0       0       1  16750  24.0  25563.0  110.0       0.0          0   \n",
            "19    0       0       1  16950  30.0  64359.0  110.0       1.0          0   \n",
            "20    0       0       1  15950  30.0  67660.0  110.0       1.0          0   \n",
            "\n",
            "      CC  Doors  Weight  \n",
            "16  1800      3    1185  \n",
            "17  1600      3    1105  \n",
            "18  1600      3    1065  \n",
            "19  1600      3    1105  \n",
            "20  1600      3    1105  \n",
            "             CNG    Diesel    Petrol     Price       Age        KM        HP  \\\n",
            "CNG     1.000000 -0.035770 -0.295719 -0.050713  0.009959  0.161031  0.067810   \n",
            "Diesel -0.035770  1.000000 -0.944086 -0.023585 -0.037118  0.455336 -0.592371   \n",
            "Petrol -0.295719 -0.944086  1.000000  0.039275  0.032195 -0.488376  0.543868   \n",
            "Price  -0.050713 -0.023585  0.039275  1.000000 -0.879172 -0.599371  0.278766   \n",
            "Age     0.009959 -0.037118  0.032195 -0.879172  1.000000  0.520595 -0.130764   \n",
            "\n",
            "        MetColor  Automatic        CC     Doors    Weight  \n",
            "CNG    -0.002088  -0.024949  0.019923  0.011549  0.060822  \n",
            "Diesel -0.026181  -0.079651  0.761738  0.048061  0.541860  \n",
            "Petrol  0.025715   0.084369 -0.734708 -0.049751 -0.538023  \n",
            "Price   0.132613   0.040395  0.073935  0.199701  0.513356  \n",
            "Age    -0.117423   0.031832 -0.058908 -0.190883 -0.423448  \n"
          ]
        },
        {
          "output_type": "execute_result",
          "data": {
            "text/plain": [
              "<matplotlib.axes._subplots.AxesSubplot at 0x7fd35a042700>"
            ]
          },
          "metadata": {},
          "execution_count": 47
        },
        {
          "output_type": "display_data",
          "data": {
            "text/plain": [
              "<Figure size 432x288 with 2 Axes>"
            ],
            "image/png": "[encoded data removed]"
          },
          "metadata": {
            "needs_background": "light"
          }
        }
      ]
    },
    {
      "cell_type": "code",
      "source": [
        "columns = np.full((corr.shape[0],), True, dtype=bool)\n",
        "\n",
        "for i in range(corr.shape[0]):\n",
        "  for j in range(i+1, corr.shape[0]):\n",
        "    if corr.iloc[i,j] >= 0.9:\n",
        "      if columns[j]:\n",
        "        columns[j] = False\n",
        "\n",
        "selected_columns = data.columns[columns]\n",
        "data = data[selected_columns]\n",
        "     "
      ],
      "metadata": {
        "id": "fZuLTy0kBXmT"
      },
      "execution_count": null,
      "outputs": []
    }
  ]
}