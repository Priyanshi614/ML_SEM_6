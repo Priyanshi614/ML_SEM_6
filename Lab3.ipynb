{
  "nbformat": 4,
  "nbformat_minor": 0,
  "metadata": {
    "colab": {
      "provenance": [],
      "authorship_tag": "ABX9TyOb6Vj3Yo7YXdsOsa+4FV5Z",
      "include_colab_link": true
    },
    "kernelspec": {
      "name": "python3",
      "display_name": "Python 3"
    },
    "language_info": {
      "name": "python"
    }
  },
  "cells": [
    {
      "cell_type": "markdown",
      "metadata": {
        "id": "view-in-github",
        "colab_type": "text"
      },
      "source": [
        "<a href=\"https://colab.research.google.com/github/Priyanshi614/ML_SEM_6/blob/main/Lab3.ipynb\" target=\"_parent\"><img src=\"https://colab.research.google.com/assets/colab-badge.svg\" alt=\"Open In Colab\"/></a>"
      ]
    },
    {
      "cell_type": "code",
      "execution_count": null,
      "metadata": {
        "id": "jD3-lIfQbU5P"
      },
      "outputs": [],
      "source": [
        "from sklearn import preprocessing\n",
        "from sklearn.naive_bayes import GaussianNB, MultinomialNB"
      ]
    },
    {
      "cell_type": "code",
      "source": [
        "#Import scikit-learn dataset library\n",
        "import numpy as np\n",
        "from sklearn import datasets\n",
        "from sklearn.naive_bayes import GaussianNB\n",
        "#Load dataset\n",
        "iris = datasets.load_iris()"
      ],
      "metadata": {
        "id": "4NvkWWIaO853"
      },
      "execution_count": null,
      "outputs": []
    },
    {
      "cell_type": "code",
      "source": [
        "# print the names of the 13 features\n",
        "print(\"Features: \", iris.feature_names)\n",
        "# print the label type of wine(class_0, class_1, class_2)\n",
        "print(\"Labels: \", iris.target_names)\n",
        "# print data(feature)shape\n",
        "print(\"\\nData shape: \",iris.data.shape)\n",
        "#print data(target)shape\n",
        "print(\"\\nTraget shape: \",iris.target.shape)\n",
        "#print(\"\\nData: \",iris.data)\n",
        "#print(\"\\nTarget: \",iris.target)\n",
        "print(\"\\nData type: \",type(iris.data))\n",
        "newdata = iris.data[50:,:]\n",
        "newtarget = iris.target[50:]\n",
        "# print data(feature)shape\n",
        "print(\"\\nNew Data shape: \",newdata.shape)\n",
        "#print data(target)shape\n",
        "print(\"\\nNew Traget shape: \",newtarget.shape)"
      ],
      "metadata": {
        "id": "_n3WihbLPRY2",
        "outputId": "aaa88380-745e-4e30-acff-f5df95a8d814",
        "colab": {
          "base_uri": "https://localhost:8080/"
        }
      },
      "execution_count": null,
      "outputs": [
        {
          "output_type": "stream",
          "name": "stdout",
          "text": [
            "Features:  ['sepal length (cm)', 'sepal width (cm)', 'petal length (cm)', 'petal width (cm)']\n",
            "Labels:  ['setosa' 'versicolor' 'virginica']\n",
            "\n",
            "Data shape:  (150, 4)\n",
            "\n",
            "Traget shape:  (150,)\n",
            "\n",
            "Data type:  <class 'numpy.ndarray'>\n",
            "\n",
            "New Data shape:  (100, 4)\n",
            "\n",
            "New Traget shape:  (100,)\n"
          ]
        }
      ]
    }
  ]
}