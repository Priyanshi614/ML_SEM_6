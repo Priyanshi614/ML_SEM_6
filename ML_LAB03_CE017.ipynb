{
  "nbformat": 4,
  "nbformat_minor": 0,
  "metadata": {
    "colab": {
      "provenance": [],
      "include_colab_link": true
    },
    "kernelspec": {
      "name": "python3",
      "display_name": "Python 3"
    },
    "language_info": {
      "name": "python"
    }
  },
  "cells": [
    {
      "cell_type": "markdown",
      "metadata": {
        "id": "view-in-github",
        "colab_type": "text"
      },
      "source": [
        "<a href=\"https://colab.research.google.com/github/Priyanshi614/ML_SEM_6/blob/main/ML_LAB03_CE014.ipynb\" target=\"_parent\"><img src=\"https://colab.research.google.com/assets/colab-badge.svg\" alt=\"Open In Colab\"/></a>"
      ]
    },
    {
      "cell_type": "markdown",
      "source": [
        "## 1_NB_Classifier_Weather"
      ],
      "metadata": {
        "id": "infWOc1_DNxw"
      }
    },
    {
      "cell_type": "code",
      "execution_count": null,
      "metadata": {
        "id": "p4zGJe_dGI2p"
      },
      "outputs": [],
      "source": [
        "from sklearn import preprocessing\n",
        "from sklearn.naive_bayes import GaussianNB, MultinomialNB"
      ]
    },
    {
      "cell_type": "code",
      "source": [
        "weather = ['Sunny', 'Sunny', 'Overcast', 'Rainy', 'Rainy','Rainy', 'Overcast',\n",
        "'Sunny', 'Sunny', 'Rainy', 'Sunny', 'Overcast', 'Overcast', 'Rainy']\n",
        "\n",
        "temp = ['Hot','Hot','Hot','Mild','Cool','Cool','Cool','Mild',\n",
        "'Cool','Mild','Mild','Mild','Hot','Mild']\n",
        "\n",
        "play=['No','No','Yes','Yes','Yes','No','Yes','No','Yes',\n",
        "'Yes','Yes','Yes','Yes','No']"
      ],
      "metadata": {
        "id": "8T4guL2WGWgH"
      },
      "execution_count": null,
      "outputs": []
    },
    {
      "cell_type": "code",
      "source": [
        "le = preprocessing.LabelEncoder()\n",
        "\n",
        "weather_encoded=le.fit_transform(weather)\n",
        "print(\"Weather:\" ,weather_encoded)"
      ],
      "metadata": {
        "colab": {
          "base_uri": "https://localhost:8080/"
        },
        "id": "IIpHGG04GlXW",
        "outputId": "83fcfc5e-c1d0-4c5e-cc92-659030ad0adb"
      },
      "execution_count": null,
      "outputs": [
        {
          "output_type": "stream",
          "name": "stdout",
          "text": [
            "Weather: [2 2 0 1 1 1 0 2 2 1 2 0 0 1]\n"
          ]
        }
      ]
    },
    {
      "cell_type": "code",
      "source": [
        "temp_encoded=le.fit_transform(temp)\n",
        "label=le.fit_transform(play)\n",
        "print(\"Temp:\",temp_encoded)\n",
        "print(\"Play:\",label)"
      ],
      "metadata": {
        "colab": {
          "base_uri": "https://localhost:8080/"
        },
        "id": "gFLgf1WLG0aP",
        "outputId": "feee05db-9cdf-4bf7-888e-620f3f153e14"
      },
      "execution_count": null,
      "outputs": [
        {
          "output_type": "stream",
          "name": "stdout",
          "text": [
            "Temp: [1 1 1 2 0 0 0 2 0 2 2 2 1 2]\n",
            "Play: [0 0 1 1 1 0 1 0 1 1 1 1 1 0]\n"
          ]
        }
      ]
    },
    {
      "cell_type": "code",
      "source": [
        "features=tuple(zip(weather_encoded,temp_encoded))\n",
        "print(\"Features:\",features)"
      ],
      "metadata": {
        "colab": {
          "base_uri": "https://localhost:8080/"
        },
        "id": "MKZTYkd5G3Zk",
        "outputId": "195f473c-d896-402b-bbcc-533d50bfbe34"
      },
      "execution_count": null,
      "outputs": [
        {
          "output_type": "stream",
          "name": "stdout",
          "text": [
            "Features: ((2, 1), (2, 1), (0, 1), (1, 2), (1, 0), (1, 0), (0, 0), (2, 2), (2, 0), (1, 2), (2, 2), (0, 2), (0, 1), (1, 2))\n"
          ]
        }
      ]
    },
    {
      "cell_type": "code",
      "source": [
        "model=MultinomialNB()\n",
        "model.fit(features,label)"
      ],
      "metadata": {
        "colab": {
          "base_uri": "https://localhost:8080/"
        },
        "id": "JCy09xzfHCB8",
        "outputId": "015794df-894a-4d22-9276-e76eebc90f43"
      },
      "execution_count": null,
      "outputs": [
        {
          "output_type": "execute_result",
          "data": {
            "text/plain": [
              "MultinomialNB()"
            ]
          },
          "metadata": {},
          "execution_count": 7
        }
      ]
    },
    {
      "cell_type": "code",
      "source": [
        "predicted= model.predict([[0,2]]) # 0:Overcast, 2:Mild\n",
        "print(\"Predicted Value:\", predicted)\n",
        "\n",
        "\n",
        "predicted= model.predict([[0,1]]) # 0:Overcast, 1:Hot\n",
        "print(\"Predicted Value:\", predicted)\n",
        "\n",
        "predicted= model.predict([[2,2]]) # 2:Sunny, 2:Mild\n",
        "print(\"Predicted Value:\", predicted)"
      ],
      "metadata": {
        "colab": {
          "base_uri": "https://localhost:8080/"
        },
        "id": "sl5209qJHe3W",
        "outputId": "62b655a4-7ca8-4be6-8a4c-1207773aa852"
      },
      "execution_count": null,
      "outputs": [
        {
          "output_type": "stream",
          "name": "stdout",
          "text": [
            "Predicted Value: [1]\n",
            "Predicted Value: [1]\n",
            "Predicted Value: [1]\n"
          ]
        }
      ]
    },
    {
      "cell_type": "markdown",
      "source": [
        "Exercise:"
      ],
      "metadata": {
        "id": "o37LyX8cClHb"
      }
    },
    {
      "cell_type": "code",
      "source": [
        "#Will you play if the temperature is ‘Hot’ and weather is ‘overcast’?\n",
        "predicted= model.predict([[0,1]]) # 0:Overcast, 1:Hot\n",
        "print(\"Predicted Value:\", predicted)"
      ],
      "metadata": {
        "colab": {
          "base_uri": "https://localhost:8080/"
        },
        "id": "F90E0GSmCoLB",
        "outputId": "6cff07b1-39f0-4d74-ff76-c17de92f1f86"
      },
      "execution_count": null,
      "outputs": [
        {
          "output_type": "stream",
          "name": "stdout",
          "text": [
            "Predicted Value: [1]\n"
          ]
        }
      ]
    },
    {
      "cell_type": "code",
      "source": [
        "#Will you play if the temperature is ‘Mild’ and weather is ‘Sunny’?\n",
        "predicted= model.predict([[2,2]]) # 2:Sunny, 2:Mild\n",
        "print(\"Predicted Value:\", predicted)"
      ],
      "metadata": {
        "colab": {
          "base_uri": "https://localhost:8080/"
        },
        "id": "Dr_UzQEKC-6f",
        "outputId": "5288ba73-eef6-46aa-cdd3-b8af1e9c37d6"
      },
      "execution_count": null,
      "outputs": [
        {
          "output_type": "stream",
          "name": "stdout",
          "text": [
            "Predicted Value: [1]\n"
          ]
        }
      ]
    },
    {
      "cell_type": "markdown",
      "source": [
        "# 2_NB_Classifier_Iris_2Classes"
      ],
      "metadata": {
        "id": "bpkdWC7pDXs3"
      }
    },
    {
      "cell_type": "code",
      "source": [
        "import numpy as np\n",
        "from sklearn import datasets\n",
        "from sklearn.naive_bayes import GaussianNB\n",
        "#Load dataset\n",
        "iris = datasets.load_iris()"
      ],
      "metadata": {
        "id": "l5xT85eYDK17"
      },
      "execution_count": null,
      "outputs": []
    },
    {
      "cell_type": "code",
      "source": [
        "# print the names of the 13 features\n",
        "print(\"Features: \", iris.feature_names)\n",
        "\n",
        "# print the label type of wine(class_0, class_1, class_2)\n",
        "print(\"Labels: \", iris.target_names)\n",
        "\n",
        "# print data(feature)shape\n",
        "print(\"\\nData shape: \",iris.data.shape)\n",
        "\n",
        "#print data(target)shape\n",
        "print(\"\\nTraget shape: \",iris.target.shape)\n",
        "\n",
        "#print(\"\\nData: \",iris.data)\n",
        "#print(\"\\nTarget: \",iris.target)\n",
        "print(\"\\nData type: \",type(iris.data))\n",
        "newdata = iris.data[50:,:]\n",
        "newtarget = iris.target[50:]\n",
        "\n",
        "# print data(feature)shape\n",
        "print(\"\\nNew Data shape: \",newdata.shape)\n",
        "\n",
        "#print data(target)shape\n",
        "print(\"\\nNew Traget shape: \",newtarget.shape)"
      ],
      "metadata": {
        "colab": {
          "base_uri": "https://localhost:8080/"
        },
        "id": "g1mY4y_nELNY",
        "outputId": "8dffd64d-9841-4807-c034-fe0d1779aa21"
      },
      "execution_count": null,
      "outputs": [
        {
          "output_type": "stream",
          "name": "stdout",
          "text": [
            "Features:  ['sepal length (cm)', 'sepal width (cm)', 'petal length (cm)', 'petal width (cm)']\n",
            "Labels:  ['setosa' 'versicolor' 'virginica']\n",
            "\n",
            "Data shape:  (150, 4)\n",
            "\n",
            "Traget shape:  (150,)\n",
            "\n",
            "Data type:  <class 'numpy.ndarray'>\n",
            "\n",
            "New Data shape:  (100, 4)\n",
            "\n",
            "New Traget shape:  (100,)\n"
          ]
        }
      ]
    },
    {
      "cell_type": "code",
      "source": [
        "from sklearn.model_selection import train_test_split\n",
        "#split data set into train and test sets\n",
        "data_train, data_test, target_train, target_test = train_test_split(newdata,\n",
        "newtarget, test_size = 0.30, random_state = 5)"
      ],
      "metadata": {
        "id": "_VjiGbFZEXCZ"
      },
      "execution_count": null,
      "outputs": []
    },
    {
      "cell_type": "code",
      "source": [
        "import numpy as np\n",
        "gnb = GaussianNB()\n",
        "#Train the model using the training sets\n",
        "gnb.fit(data_train, target_train)\n",
        "#Predict the response for test dataset\n",
        "target_pred = gnb.predict(data_test)"
      ],
      "metadata": {
        "id": "WoQl_xFWEaQ_"
      },
      "execution_count": null,
      "outputs": []
    },
    {
      "cell_type": "code",
      "source": [
        "#Import scikit-learn metrics module for accuracy calculation\n",
        "from sklearn import metrics\n",
        "# Model Accuracy, how often is the classifier correct?\n",
        "print(\"Accuracy:\",metrics.accuracy_score(target_test, target_pred))"
      ],
      "metadata": {
        "colab": {
          "base_uri": "https://localhost:8080/"
        },
        "id": "uAgGU6CNFSdR",
        "outputId": "5ceb187e-a51b-403e-831a-310f0c8b1f6b"
      },
      "execution_count": null,
      "outputs": [
        {
          "output_type": "stream",
          "name": "stdout",
          "text": [
            "Accuracy: 0.9\n"
          ]
        }
      ]
    },
    {
      "cell_type": "code",
      "source": [
        "from sklearn.metrics import confusion_matrix\n",
        "confusion_matrix(target_test, target_pred)"
      ],
      "metadata": {
        "colab": {
          "base_uri": "https://localhost:8080/"
        },
        "id": "C9bcRRqQFVU4",
        "outputId": "20e64e6e-416f-4a60-f524-975c926eab47"
      },
      "execution_count": null,
      "outputs": [
        {
          "output_type": "execute_result",
          "data": {
            "text/plain": [
              "array([[16,  1],\n",
              "       [ 2, 11]])"
            ]
          },
          "metadata": {},
          "execution_count": 16
        }
      ]
    },
    {
      "cell_type": "code",
      "source": [
        "from sklearn.metrics import precision_score\n",
        "from sklearn.metrics import recall_score\n",
        "precision = precision_score(target_test, target_pred)\n",
        "recall = recall_score(target_test, target_pred)\n",
        "print('precision: {}'.format(precision))\n",
        "print('recall: {}'.format(recall))"
      ],
      "metadata": {
        "colab": {
          "base_uri": "https://localhost:8080/"
        },
        "id": "mdL0okdpFUQ_",
        "outputId": "99d97c06-07cd-41d6-f3af-ec202e54eb0e"
      },
      "execution_count": null,
      "outputs": [
        {
          "output_type": "stream",
          "name": "stdout",
          "text": [
            "precision: 0.8888888888888888\n",
            "recall: 0.9411764705882353\n"
          ]
        }
      ]
    },
    {
      "cell_type": "markdown",
      "source": [
        "Task 1: Try the algorithm on dataset 1"
      ],
      "metadata": {
        "id": "eJ8WbNh9G-B4"
      }
    },
    {
      "cell_type": "code",
      "source": [
        "from sklearn import datasets\n",
        "from sklearn.naive_bayes import GaussianNB\n",
        "import pandas as pd\n",
        "from sklearn.preprocessing import LabelEncoder\n",
        "import numpy as np\n",
        "from google.colab import drive\n",
        "drive.mount('/content/drive')\n",
        "data1 = pd.read_csv('Dataset1.csv')\n",
        "print(data1)"
      ],
      "metadata": {
        "colab": {
          "base_uri": "https://localhost:8080/"
        },
        "id": "PNBw-WLUHEi_",
        "outputId": "f6c2e7cb-a373-4305-d646-af3d3e61cb88"
      },
      "execution_count": null,
      "outputs": [
        {
          "output_type": "stream",
          "name": "stdout",
          "text": [
            "Drive already mounted at /content/drive; to attempt to forcibly remount, call drive.mount(\"/content/drive\", force_remount=True).\n",
            "   Outlook Temp Humidity Wind Play\n",
            "0        R    H   Normal    F    N\n",
            "1        R    H     High    T    N\n",
            "2        O    H   Normal    F    Y\n",
            "3        S    M   Normal    F    Y\n",
            "4        S    C   Normal    F    Y\n",
            "5        S    C      Low    T    N\n",
            "6        O    C   Normal    T    Y\n",
            "7        R    M   Normal    F    N\n",
            "8        R    C      Low    F    Y\n",
            "9        S    M     High    F    Y\n",
            "10       R    M     High    T    Y\n",
            "11       O    M      Low    T    Y\n",
            "12       O    H   Normal    F    Y\n",
            "13       S    M   Normal    T    N\n"
          ]
        }
      ]
    },
    {
      "cell_type": "code",
      "source": [
        "#print(\"Features: \", data.feature_names)\n",
        "data1 = pd.read_csv('Dataset1.csv')\n",
        "print(\"Labels: \", data1.target_names)\n",
        "\n",
        "print(\"\\nData shape: \",data1.data.shape)\n",
        "\n",
        "print(\"\\nTraget shape: \",data1.target.shape)\n",
        "\n",
        "\n",
        "print(\"\\nData type: \",type(data1.data))\n",
        "newdata = data1.data[50:,:]\n",
        "newtarget = data1.target[50:]\n",
        "\n",
        "print(\"\\nNew Data shape: \",newdata.shape)\n",
        "\n",
        "print(\"\\nNew Traget shape: \",newtarget.shape)"
      ],
      "metadata": {
        "colab": {
          "base_uri": "https://localhost:8080/",
          "height": 389
        },
        "id": "OBLQ-x1qH65Y",
        "outputId": "0c710b08-3e74-4dc2-eba7-604bffc5424e"
      },
      "execution_count": null,
      "outputs": [
        {
          "output_type": "error",
          "ename": "AttributeError",
          "evalue": "ignored",
          "traceback": [
            "\u001b[0;31m---------------------------------------------------------------------------\u001b[0m",
            "\u001b[0;31mAttributeError\u001b[0m                            Traceback (most recent call last)",
            "\u001b[0;32m<ipython-input-43-e41eb746c61f>\u001b[0m in \u001b[0;36m<module>\u001b[0;34m\u001b[0m\n\u001b[1;32m      1\u001b[0m \u001b[0;31m#print(\"Features: \", data.feature_names)\u001b[0m\u001b[0;34m\u001b[0m\u001b[0;34m\u001b[0m\u001b[0;34m\u001b[0m\u001b[0m\n\u001b[1;32m      2\u001b[0m \u001b[0mdata1\u001b[0m \u001b[0;34m=\u001b[0m \u001b[0mpd\u001b[0m\u001b[0;34m.\u001b[0m\u001b[0mread_csv\u001b[0m\u001b[0;34m(\u001b[0m\u001b[0;34m'Dataset1.csv'\u001b[0m\u001b[0;34m)\u001b[0m\u001b[0;34m\u001b[0m\u001b[0;34m\u001b[0m\u001b[0m\n\u001b[0;32m----> 3\u001b[0;31m \u001b[0mprint\u001b[0m\u001b[0;34m(\u001b[0m\u001b[0;34m\"Labels: \"\u001b[0m\u001b[0;34m,\u001b[0m \u001b[0mdata1\u001b[0m\u001b[0;34m.\u001b[0m\u001b[0mtarget_names\u001b[0m\u001b[0;34m)\u001b[0m\u001b[0;34m\u001b[0m\u001b[0;34m\u001b[0m\u001b[0m\n\u001b[0m\u001b[1;32m      4\u001b[0m \u001b[0;34m\u001b[0m\u001b[0m\n\u001b[1;32m      5\u001b[0m \u001b[0mprint\u001b[0m\u001b[0;34m(\u001b[0m\u001b[0;34m\"\\nData shape: \"\u001b[0m\u001b[0;34m,\u001b[0m\u001b[0mdata1\u001b[0m\u001b[0;34m.\u001b[0m\u001b[0mdata\u001b[0m\u001b[0;34m.\u001b[0m\u001b[0mshape\u001b[0m\u001b[0;34m)\u001b[0m\u001b[0;34m\u001b[0m\u001b[0;34m\u001b[0m\u001b[0m\n",
            "\u001b[0;32m/usr/local/lib/python3.8/dist-packages/pandas/core/generic.py\u001b[0m in \u001b[0;36m__getattr__\u001b[0;34m(self, name)\u001b[0m\n\u001b[1;32m   5485\u001b[0m         ):\n\u001b[1;32m   5486\u001b[0m             \u001b[0;32mreturn\u001b[0m \u001b[0mself\u001b[0m\u001b[0;34m[\u001b[0m\u001b[0mname\u001b[0m\u001b[0;34m]\u001b[0m\u001b[0;34m\u001b[0m\u001b[0;34m\u001b[0m\u001b[0m\n\u001b[0;32m-> 5487\u001b[0;31m         \u001b[0;32mreturn\u001b[0m \u001b[0mobject\u001b[0m\u001b[0;34m.\u001b[0m\u001b[0m__getattribute__\u001b[0m\u001b[0;34m(\u001b[0m\u001b[0mself\u001b[0m\u001b[0;34m,\u001b[0m \u001b[0mname\u001b[0m\u001b[0;34m)\u001b[0m\u001b[0;34m\u001b[0m\u001b[0;34m\u001b[0m\u001b[0m\n\u001b[0m\u001b[1;32m   5488\u001b[0m \u001b[0;34m\u001b[0m\u001b[0m\n\u001b[1;32m   5489\u001b[0m     \u001b[0;32mdef\u001b[0m \u001b[0m__setattr__\u001b[0m\u001b[0;34m(\u001b[0m\u001b[0mself\u001b[0m\u001b[0;34m,\u001b[0m \u001b[0mname\u001b[0m\u001b[0;34m:\u001b[0m \u001b[0mstr\u001b[0m\u001b[0;34m,\u001b[0m \u001b[0mvalue\u001b[0m\u001b[0;34m)\u001b[0m \u001b[0;34m->\u001b[0m \u001b[0;32mNone\u001b[0m\u001b[0;34m:\u001b[0m\u001b[0;34m\u001b[0m\u001b[0;34m\u001b[0m\u001b[0m\n",
            "\u001b[0;31mAttributeError\u001b[0m: 'DataFrame' object has no attribute 'target_names'"
          ]
        }
      ]
    },
    {
      "cell_type": "code",
      "source": [
        "from sklearn.model_selection import train_test_split\n",
        "data_train, data_test, target_train, target_test = train_test_split(x,y,train_size=0.9,test_size=0.1, random_state=14)"
      ],
      "metadata": {
        "id": "SMMOM4e-INAN"
      },
      "execution_count": null,
      "outputs": []
    },
    {
      "cell_type": "code",
      "source": [
        "import numpy as np\n",
        "gnb = GaussianNB()\n",
        "\n",
        "gnb.fit(data_train, target_train)\n",
        "\n",
        "target_pred = gnb.predict(data_test)"
      ],
      "metadata": {
        "id": "jz0eoJAwIfpS"
      },
      "execution_count": null,
      "outputs": []
    },
    {
      "cell_type": "code",
      "source": [
        "from sklearn import metrics\n",
        "\n",
        "print(\"Accuracy: \",metrics.accuracy_score(target_test,target_pred))"
      ],
      "metadata": {
        "colab": {
          "base_uri": "https://localhost:8080/"
        },
        "id": "2mYxFlbHIlQk",
        "outputId": "1413d59f-713b-4188-cd39-b224f829fb07"
      },
      "execution_count": null,
      "outputs": [
        {
          "output_type": "stream",
          "name": "stdout",
          "text": [
            "Accuracy:  0.0\n"
          ]
        }
      ]
    },
    {
      "cell_type": "code",
      "source": [
        "target_pred = gnb.predict([[1,2,0,2],\n",
        "                           [2,0,1,0]])\n",
        "print(target_pred)"
      ],
      "metadata": {
        "colab": {
          "base_uri": "https://localhost:8080/"
        },
        "id": "k4To7QnSIncV",
        "outputId": "41d70bad-6a34-4efb-ca0d-149a7cb74151"
      },
      "execution_count": null,
      "outputs": [
        {
          "output_type": "stream",
          "name": "stdout",
          "text": [
            "[1 1]\n"
          ]
        }
      ]
    },
    {
      "cell_type": "code",
      "source": [
        "from sklearn import metrics\n",
        "from sklearn.metrics import precision_score\n",
        "from sklearn.metrics import recall_score\n",
        "\n",
        "print(\"Accuracy: \",metrics.accuracy_score(target_test,target_pred))\n",
        "precision = precision_score(target_test, target_pred)\n",
        "recall = recall_score(target_test, target_pred)\n",
        "print('precision: {}'.format(precision))\n",
        "print('recall: {}'.format(recall))"
      ],
      "metadata": {
        "colab": {
          "base_uri": "https://localhost:8080/"
        },
        "id": "oAV1Aom9IuXz",
        "outputId": "c32ffa32-de16-4846-d2e3-498077e3f9a7"
      },
      "execution_count": null,
      "outputs": [
        {
          "output_type": "stream",
          "name": "stdout",
          "text": [
            "Accuracy:  0.5\n",
            "precision: 0.5\n",
            "recall: 1.0\n"
          ]
        }
      ]
    },
    {
      "cell_type": "markdown",
      "source": [
        "Task 2: Digits Dataset"
      ],
      "metadata": {
        "id": "xRNUEKkjI7gL"
      }
    },
    {
      "cell_type": "code",
      "source": [
        "data=datasets.load_digits()\n",
        "data.keys(), data.target"
      ],
      "metadata": {
        "colab": {
          "base_uri": "https://localhost:8080/"
        },
        "id": "rJJoiWSyI7AZ",
        "outputId": "a7440130-4c1f-4911-8b90-4737c55d9d20"
      },
      "execution_count": null,
      "outputs": [
        {
          "output_type": "execute_result",
          "data": {
            "text/plain": [
              "(dict_keys(['data', 'target', 'frame', 'feature_names', 'target_names', 'images', 'DESCR']),\n",
              " array([0, 1, 2, ..., 8, 9, 8]))"
            ]
          },
          "metadata": {},
          "execution_count": 36
        }
      ]
    },
    {
      "cell_type": "code",
      "source": [],
      "metadata": {
        "id": "Z1Yq6we-JH4S"
      },
      "execution_count": null,
      "outputs": []
    },
    {
      "cell_type": "markdown",
      "source": [
        "# 3_NB_Classifier_Iris_3Classes"
      ],
      "metadata": {
        "id": "AkHW15v6FhDS"
      }
    },
    {
      "cell_type": "code",
      "source": [
        "from sklearn import datasets\n",
        "from sklearn.naive_bayes import GaussianNB\n",
        "\n",
        "iris = datasets.load_iris()"
      ],
      "metadata": {
        "id": "Jjw91cwzFabE"
      },
      "execution_count": null,
      "outputs": []
    },
    {
      "cell_type": "code",
      "source": [
        "print(\"Features: \", iris.feature_names)\n",
        "# print the label type of wine(class_0, class_1, class_2)\n",
        "print(\"Labels: \", iris.target_names)\n",
        "# print data(feature)shape\n",
        "iris.data.shape"
      ],
      "metadata": {
        "colab": {
          "base_uri": "https://localhost:8080/"
        },
        "id": "libMZ_yiEZPX",
        "outputId": "5f59fb80-5215-4aa8-fd48-4f501f567c9c"
      },
      "execution_count": null,
      "outputs": [
        {
          "output_type": "stream",
          "name": "stdout",
          "text": [
            "Features:  ['sepal length (cm)', 'sepal width (cm)', 'petal length (cm)', 'petal width (cm)']\n",
            "Labels:  ['setosa' 'versicolor' 'virginica']\n"
          ]
        },
        {
          "output_type": "execute_result",
          "data": {
            "text/plain": [
              "(150, 4)"
            ]
          },
          "metadata": {},
          "execution_count": 19
        }
      ]
    },
    {
      "cell_type": "code",
      "source": [
        "from sklearn.model_selection import train_test_split\n",
        "data_train, data_test, target_train, target_test = train_test_split(iris.data,\n",
        "iris.target, test_size = 0.30, random_state = 10)"
      ],
      "metadata": {
        "id": "jdgNEnl4FsGD"
      },
      "execution_count": null,
      "outputs": []
    },
    {
      "cell_type": "code",
      "source": [
        "gnb = GaussianNB()\n",
        "gnb.fit(data_train, target_train)\n",
        "target_pred = gnb.predict(data_test)"
      ],
      "metadata": {
        "id": "Fwyz8yKtFwaG"
      },
      "execution_count": null,
      "outputs": []
    },
    {
      "cell_type": "code",
      "source": [
        "gnb.fit(data_train, target_train)\n",
        "target_pred = gnb.predict(data_test)"
      ],
      "metadata": {
        "id": "L7aC4ZHMF3zb"
      },
      "execution_count": null,
      "outputs": []
    },
    {
      "cell_type": "code",
      "source": [
        "from sklearn import metrics\n",
        "# Model Accuracy, how often is the classifier correct?\n",
        "print(\"Accuracy:\",metrics.accuracy_score(target_test, target_pred))"
      ],
      "metadata": {
        "colab": {
          "base_uri": "https://localhost:8080/"
        },
        "id": "uYmYO7gSGMdb",
        "outputId": "43681e16-ded2-4c09-e0ca-f76a8851f3fd"
      },
      "execution_count": null,
      "outputs": [
        {
          "output_type": "stream",
          "name": "stdout",
          "text": [
            "Accuracy: 1.0\n"
          ]
        }
      ]
    },
    {
      "cell_type": "code",
      "source": [
        "from sklearn.metrics import confusion_matrix\n",
        "confusion_matrix(target_test, target_pred)"
      ],
      "metadata": {
        "colab": {
          "base_uri": "https://localhost:8080/"
        },
        "id": "6Gk1ml1KGPUa",
        "outputId": "7d4660f2-7b55-46e1-a230-2fe63fda6399"
      },
      "execution_count": null,
      "outputs": [
        {
          "output_type": "execute_result",
          "data": {
            "text/plain": [
              "array([[14,  0,  0],\n",
              "       [ 0, 17,  0],\n",
              "       [ 0,  0, 14]])"
            ]
          },
          "metadata": {},
          "execution_count": 24
        }
      ]
    },
    {
      "cell_type": "code",
      "source": [
        "from sklearn.metrics import precision_score\n",
        "from sklearn.metrics import recall_score\n",
        "precision = precision_score(target_test, target_pred, average=None)\n",
        "recall = recall_score(target_test, target_pred, average=None)\n",
        "print('precision: {}'.format(precision))\n",
        "print('recall: {}'.format(recall))"
      ],
      "metadata": {
        "colab": {
          "base_uri": "https://localhost:8080/"
        },
        "id": "rWtqq0O_GTKU",
        "outputId": "c84cd28a-e5af-496a-f9fe-043238ac9bc6"
      },
      "execution_count": null,
      "outputs": [
        {
          "output_type": "stream",
          "name": "stdout",
          "text": [
            "precision: [1. 1. 1.]\n",
            "recall: [1. 1. 1.]\n"
          ]
        }
      ]
    },
    {
      "cell_type": "code",
      "source": [],
      "metadata": {
        "id": "I-fNvVRpGVtj"
      },
      "execution_count": null,
      "outputs": []
    }
  ]
}
