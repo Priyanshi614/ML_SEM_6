{
  "nbformat": 4,
  "nbformat_minor": 0,
  "metadata": {
    "colab": {
      "provenance": [],
      "include_colab_link": true
    },
    "kernelspec": {
      "name": "python3",
      "display_name": "Python 3"
    },
    "language_info": {
      "name": "python"
    }
  },
  "cells": [
    {
      "cell_type": "markdown",
      "metadata": {
        "id": "view-in-github",
        "colab_type": "text"
      },
      "source": [
        "<a href=\"https://colab.research.google.com/github/Priyanshi614/ML_SEM_6/blob/main/ML_Lab01.ipynb\" target=\"_parent\"><img src=\"https://colab.research.google.com/assets/colab-badge.svg\" alt=\"Open In Colab\"/></a>"
      ]
    },
    {
      "cell_type": "code",
      "execution_count": null,
      "metadata": {
        "id": "1AYJJ6JK-p3x"
      },
      "outputs": [],
      "source": [
        "import numpy as np"
      ]
    },
    {
      "cell_type": "code",
      "source": [
        "x=12.5\n",
        "print(x,\" TYPE: \",type(x))\n",
        "x=\"Anisha Malhotra\"\n",
        "print(x,\" TYPE: \",type(x))\n",
        "x=[1,2,3]\n",
        "print(x,\" TYPE: \",type(x))"
      ],
      "metadata": {
        "colab": {
          "base_uri": "https://localhost:8080/"
        },
        "id": "LnlBwYi2AHDj",
        "outputId": "cf660b7b-e67c-4dbc-dbf9-8d9e10e23a56"
      },
      "execution_count": null,
      "outputs": [
        {
          "output_type": "stream",
          "name": "stdout",
          "text": [
            "12.5  TYPE:  <class 'float'>\n",
            "Anisha Malhotra  TYPE:  <class 'str'>\n",
            "[1, 2, 3]  TYPE:  <class 'list'>\n"
          ]
        }
      ]
    },
    {
      "cell_type": "code",
      "source": [
        "alist = [1,2,3,4,5]\n",
        "narray = np.array([1,2,3,4,5])\n",
        "blist = [5,6,7,8,9]\n",
        "#narray1 = np.array([5,6,7,8]) elements should be of same shape\n",
        "narray1 = np.array([5,6,7,8,9])\n",
        "print(alist)\n",
        "print(narray)\n",
        "print(type(alist))\n",
        "print(type(narray))\n",
        "print(narray+narray) #element wise addition\n",
        "print(alist+alist) #union including repeated values\n",
        "print(narray+narray1)\n",
        "print(alist+blist)\n",
        "print(alist*3)\n",
        "print(narray*3)"
      ],
      "metadata": {
        "colab": {
          "base_uri": "https://localhost:8080/"
        },
        "id": "dPkZADBKAUJN",
        "outputId": "733221c3-28c1-4a0a-a911-4a27b4ba4ccd"
      },
      "execution_count": null,
      "outputs": [
        {
          "output_type": "stream",
          "name": "stdout",
          "text": [
            "[1, 2, 3, 4, 5]\n",
            "[1 2 3 4 5]\n",
            "<class 'list'>\n",
            "<class 'numpy.ndarray'>\n",
            "[ 2  4  6  8 10]\n",
            "[1, 2, 3, 4, 5, 1, 2, 3, 4, 5]\n",
            "[ 6  8 10 12 14]\n",
            "[1, 2, 3, 4, 5, 5, 6, 7, 8, 9]\n",
            "[1, 2, 3, 4, 5, 1, 2, 3, 4, 5, 1, 2, 3, 4, 5]\n",
            "[ 3  6  9 12 15]\n"
          ]
        }
      ]
    },
    {
      "cell_type": "code",
      "source": [
        "x = np.array([[1,2],[1,2]], dtype=np.float64)\n",
        "y = np.array([[2,1],[2,1]], dtype=np.float64)\n",
        "print(x + y)\n",
        "print(np.add(x, y))\n",
        "print(x - y)\n",
        "print(np.subtract(x, y))\n",
        "print(x * y)\n",
        "print(np.multiply(x, y))\n",
        "print(x / y)\n",
        "print(np.divide(x, y))\n"
      ],
      "metadata": {
        "colab": {
          "base_uri": "https://localhost:8080/"
        },
        "id": "_JdE3QjCDF7A",
        "outputId": "3e3758bc-18ee-454a-f855-700fbc6f8185"
      },
      "execution_count": null,
      "outputs": [
        {
          "output_type": "stream",
          "name": "stdout",
          "text": [
            "[[3. 3.]\n",
            " [3. 3.]]\n",
            "[[3. 3.]\n",
            " [3. 3.]]\n",
            "[[-1.  1.]\n",
            " [-1.  1.]]\n",
            "[[-1.  1.]\n",
            " [-1.  1.]]\n",
            "[[2. 2.]\n",
            " [2. 2.]]\n",
            "[[2. 2.]\n",
            " [2. 2.]]\n",
            "[[0.5 2. ]\n",
            " [0.5 2. ]]\n",
            "[[0.5 2. ]\n",
            " [0.5 2. ]]\n"
          ]
        }
      ]
    },
    {
      "cell_type": "code",
      "source": [
        "x = np.array([[1,2],[1,2]], dtype=np.float64)\n",
        "y = np.array([[2,1],[2,1]], dtype=np.float64)\n",
        "print(x.dot(y))\n",
        "print(np.sqrt(x))\n",
        "print(x.dot(y))\n",
        "print(np.dot(x, y))\n",
        "print(x @ y)"
      ],
      "metadata": {
        "colab": {
          "base_uri": "https://localhost:8080/"
        },
        "id": "82tVrYRDGrzJ",
        "outputId": "299562dc-4994-4f43-c5ed-c9f9abb98d31"
      },
      "execution_count": null,
      "outputs": [
        {
          "output_type": "stream",
          "name": "stdout",
          "text": [
            "[[6. 3.]\n",
            " [6. 3.]]\n",
            "[[1.         1.41421356]\n",
            " [1.         1.41421356]]\n",
            "[[6. 3.]\n",
            " [6. 3.]]\n",
            "[[6. 3.]\n",
            " [6. 3.]]\n",
            "[[6. 3.]\n",
            " [6. 3.]]\n"
          ]
        }
      ]
    },
    {
      "cell_type": "code",
      "source": [
        "x = np.array([[1,2,6],[3,4,5]])\n",
        "print(np.sum(x)) \n",
        "print(np.sum(x, axis=0)) \n",
        "print(np.sum(x, axis=1))\n",
        "print(x)\n",
        "print(\"transpose\\n\", x.T)"
      ],
      "metadata": {
        "colab": {
          "base_uri": "https://localhost:8080/"
        },
        "id": "Mx1U74ffHp4R",
        "outputId": "7ffe460f-106e-43fd-c31c-082ed7e75435"
      },
      "execution_count": null,
      "outputs": [
        {
          "output_type": "stream",
          "name": "stdout",
          "text": [
            "21\n",
            "[ 4  6 11]\n",
            "[ 9 12]\n",
            "[[1 2 6]\n",
            " [3 4 5]]\n",
            "transpose\n",
            " [[1 3]\n",
            " [2 4]\n",
            " [6 5]]\n"
          ]
        }
      ]
    },
    {
      "cell_type": "code",
      "source": [
        "#badmatrix = np.array([[1,2 ], [3, 4], [6,7,8]]) # Define a matrix.\n",
        "\n",
        "print(badmatrix) # Print the malformed matrix\n",
        "print(badmatrix * 2) # It is supposed to scale the whole matrix\n",
        "badmatrix = np.array([[1,2 ], [3, 4], [6,7]])\n",
        "result = badmatrix * 2 + 1\n",
        "print(result)"
      ],
      "metadata": {
        "colab": {
          "base_uri": "https://localhost:8080/"
        },
        "id": "OKhW84eXIhrp",
        "outputId": "b284dce2-fd9d-48e8-c4dc-82f1c884e764"
      },
      "execution_count": null,
      "outputs": [
        {
          "output_type": "stream",
          "name": "stdout",
          "text": [
            "[[1 2]\n",
            " [3 4]\n",
            " [6 7]]\n",
            "[[ 2  4]\n",
            " [ 6  8]\n",
            " [12 14]]\n",
            "[[ 3  5]\n",
            " [ 7  9]\n",
            " [13 15]]\n"
          ]
        }
      ]
    },
    {
      "cell_type": "code",
      "source": [
        "nparray = np.array([1, 2, 3, 4])#array\n",
        "nparray = np.array([[1, 2, 3, 4]])#matrix\n",
        "nparray1 = np.array([1, 2, 3, 4]) # Define an array\n",
        "norm1 = np.linalg.norm(nparray1)\n",
        "nparray2 = np.array([[1, 2], [3, 4]]) # if not mentioned \n",
        "norm2 = np.linalg.norm(nparray2)\n",
        "print(norm1)\n",
        "print(norm2)"
      ],
      "metadata": {
        "colab": {
          "base_uri": "https://localhost:8080/"
        },
        "id": "pE_nqkcbJxp5",
        "outputId": "503e54b3-e11a-4a55-f1ed-3cfc423d8c42"
      },
      "execution_count": null,
      "outputs": [
        {
          "output_type": "stream",
          "name": "stdout",
          "text": [
            "5.477225575051661\n",
            "5.477225575051661\n"
          ]
        }
      ]
    },
    {
      "cell_type": "code",
      "source": [
        "#exercise\n",
        "\n",
        "#ex1,2\n",
        "nparray1 = np.array([[1, 2, 3, 4],[1, 2, 3, 4],[1, 2, 3, 4],[1, 2, 3, 4],[1, 2, 3, 4]])\n",
        "nparray2 = np.array([[1, 2, 3, 4,5],[1, 2, 3, 4,5],[1, 2, 3, 4,5],[1, 2, 3, 4,5]])\n",
        "print(nparray1)\n",
        "print(nparray2)\n",
        "\n",
        "#ex3\n",
        "print(nparray1.dot(nparray2))\n",
        "#print(np.multiply(nparray1, nparray2)) error\n",
        "\n",
        "#ex4\n",
        "print(np.multiply(nparray1, nparray2.T))\n",
        "\n",
        "#ex5\n",
        "print(np.mean(nparray1))\n",
        "print(np.median(nparray1))\n",
        "\n",
        "#ex6\n",
        "sq_matrix = nparray1.dot(nparray2)\n",
        "print(nparray1.T)\n",
        "print(sq_matrix)\n",
        "det1 = np.linalg.det(sq_matrix)\n",
        "print(det1)\n",
        "\n",
        "#ex7\n",
        "print(nparray1[:,1])\n",
        "\n",
        "#ex8"
      ],
      "metadata": {
        "colab": {
          "base_uri": "https://localhost:8080/"
        },
        "id": "_M6d67LkMc9U",
        "outputId": "cd010110-3bee-4837-f917-4ff05606b603"
      },
      "execution_count": null,
      "outputs": [
        {
          "output_type": "stream",
          "name": "stdout",
          "text": [
            "[[1 2 3 4]\n",
            " [1 2 3 4]\n",
            " [1 2 3 4]\n",
            " [1 2 3 4]\n",
            " [1 2 3 4]]\n",
            "[[1 2 3 4 5]\n",
            " [1 2 3 4 5]\n",
            " [1 2 3 4 5]\n",
            " [1 2 3 4 5]]\n",
            "[[10 20 30 40 50]\n",
            " [10 20 30 40 50]\n",
            " [10 20 30 40 50]\n",
            " [10 20 30 40 50]\n",
            " [10 20 30 40 50]]\n",
            "[[ 1  2  3  4]\n",
            " [ 2  4  6  8]\n",
            " [ 3  6  9 12]\n",
            " [ 4  8 12 16]\n",
            " [ 5 10 15 20]]\n",
            "2.5\n",
            "2.5\n",
            "[[1 1 1 1 1]\n",
            " [2 2 2 2 2]\n",
            " [3 3 3 3 3]\n",
            " [4 4 4 4 4]]\n",
            "[[10 20 30 40 50]\n",
            " [10 20 30 40 50]\n",
            " [10 20 30 40 50]\n",
            " [10 20 30 40 50]\n",
            " [10 20 30 40 50]]\n",
            "0.0\n",
            "[2 2 2 2 2]\n"
          ]
        }
      ]
    },
    {
      "cell_type": "code",
      "source": [],
      "metadata": {
        "id": "4H5OE3W7U3RG"
      },
      "execution_count": null,
      "outputs": []
    }
  ]
}